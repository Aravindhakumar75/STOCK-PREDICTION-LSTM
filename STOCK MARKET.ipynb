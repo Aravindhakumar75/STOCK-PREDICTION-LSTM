{
 "cells": [
  {
   "cell_type": "code",
   "execution_count": 1,
   "metadata": {
    "colab": {},
    "colab_type": "code",
    "id": "vFiyorX1rRuP"
   },
   "outputs": [],
   "source": [
    "\n",
    "import pandas_datareader as pdr\n",
    "key=\"\""
   ]
  },
  {
   "cell_type": "code",
   "execution_count": 2,
   "metadata": {
    "colab": {},
    "colab_type": "code",
    "id": "_fPBBCz1rRuY"
   },
   "outputs": [],
   "source": [
    "import pandas as pd"
   ]
  },
  {
   "cell_type": "code",
   "execution_count": 3,
   "metadata": {
    "colab": {},
    "colab_type": "code",
    "id": "QMtimeGarRub"
   },
   "outputs": [],
   "source": [
    "df=pd.read_csv('ICICI.csv')"
   ]
  },
  {
   "cell_type": "code",
   "execution_count": 4,
   "metadata": {
    "colab": {
     "base_uri": "https://localhost:8080/",
     "height": 194
    },
    "colab_type": "code",
    "id": "1wetqIWprRud",
    "outputId": "f138e577-ff30-4cca-a788-beefaf6f6ceb"
   },
   "outputs": [
    {
     "data": {
      "text/html": [
       "<div>\n",
       "<style scoped>\n",
       "    .dataframe tbody tr th:only-of-type {\n",
       "        vertical-align: middle;\n",
       "    }\n",
       "\n",
       "    .dataframe tbody tr th {\n",
       "        vertical-align: top;\n",
       "    }\n",
       "\n",
       "    .dataframe thead th {\n",
       "        text-align: right;\n",
       "    }\n",
       "</style>\n",
       "<table border=\"1\" class=\"dataframe\">\n",
       "  <thead>\n",
       "    <tr style=\"text-align: right;\">\n",
       "      <th></th>\n",
       "      <th>Date</th>\n",
       "      <th>Open</th>\n",
       "      <th>High</th>\n",
       "      <th>Low</th>\n",
       "      <th>Close</th>\n",
       "      <th>Adj Close</th>\n",
       "      <th>Volume</th>\n",
       "    </tr>\n",
       "  </thead>\n",
       "  <tbody>\n",
       "    <tr>\n",
       "      <th>0</th>\n",
       "      <td>1996-01-01</td>\n",
       "      <td>3.030</td>\n",
       "      <td>3.030</td>\n",
       "      <td>2.925</td>\n",
       "      <td>2.980</td>\n",
       "      <td>0.595425</td>\n",
       "      <td>350000.0</td>\n",
       "    </tr>\n",
       "    <tr>\n",
       "      <th>1</th>\n",
       "      <td>1996-01-02</td>\n",
       "      <td>2.980</td>\n",
       "      <td>3.025</td>\n",
       "      <td>2.950</td>\n",
       "      <td>2.975</td>\n",
       "      <td>0.594426</td>\n",
       "      <td>412000.0</td>\n",
       "    </tr>\n",
       "    <tr>\n",
       "      <th>2</th>\n",
       "      <td>1996-01-03</td>\n",
       "      <td>2.975</td>\n",
       "      <td>2.995</td>\n",
       "      <td>2.950</td>\n",
       "      <td>2.985</td>\n",
       "      <td>0.596424</td>\n",
       "      <td>284000.0</td>\n",
       "    </tr>\n",
       "    <tr>\n",
       "      <th>3</th>\n",
       "      <td>1996-01-04</td>\n",
       "      <td>2.985</td>\n",
       "      <td>2.980</td>\n",
       "      <td>2.940</td>\n",
       "      <td>2.965</td>\n",
       "      <td>0.592428</td>\n",
       "      <td>282000.0</td>\n",
       "    </tr>\n",
       "    <tr>\n",
       "      <th>4</th>\n",
       "      <td>1996-01-05</td>\n",
       "      <td>2.965</td>\n",
       "      <td>2.980</td>\n",
       "      <td>2.950</td>\n",
       "      <td>2.960</td>\n",
       "      <td>0.591429</td>\n",
       "      <td>189000.0</td>\n",
       "    </tr>\n",
       "  </tbody>\n",
       "</table>\n",
       "</div>"
      ],
      "text/plain": [
       "         Date   Open   High    Low  Close  Adj Close    Volume\n",
       "0  1996-01-01  3.030  3.030  2.925  2.980   0.595425  350000.0\n",
       "1  1996-01-02  2.980  3.025  2.950  2.975   0.594426  412000.0\n",
       "2  1996-01-03  2.975  2.995  2.950  2.985   0.596424  284000.0\n",
       "3  1996-01-04  2.985  2.980  2.940  2.965   0.592428  282000.0\n",
       "4  1996-01-05  2.965  2.980  2.950  2.960   0.591429  189000.0"
      ]
     },
     "execution_count": 4,
     "metadata": {},
     "output_type": "execute_result"
    }
   ],
   "source": [
    "df.head()"
   ]
  },
  {
   "cell_type": "code",
   "execution_count": 5,
   "metadata": {
    "colab": {
     "base_uri": "https://localhost:8080/",
     "height": 194
    },
    "colab_type": "code",
    "id": "opBLIyvMrRuh",
    "outputId": "1307228a-f7a4-476a-b2ce-22e3fdb09a36"
   },
   "outputs": [
    {
     "data": {
      "text/html": [
       "<div>\n",
       "<style scoped>\n",
       "    .dataframe tbody tr th:only-of-type {\n",
       "        vertical-align: middle;\n",
       "    }\n",
       "\n",
       "    .dataframe tbody tr th {\n",
       "        vertical-align: top;\n",
       "    }\n",
       "\n",
       "    .dataframe thead th {\n",
       "        text-align: right;\n",
       "    }\n",
       "</style>\n",
       "<table border=\"1\" class=\"dataframe\">\n",
       "  <thead>\n",
       "    <tr style=\"text-align: right;\">\n",
       "      <th></th>\n",
       "      <th>Date</th>\n",
       "      <th>Open</th>\n",
       "      <th>High</th>\n",
       "      <th>Low</th>\n",
       "      <th>Close</th>\n",
       "      <th>Adj Close</th>\n",
       "      <th>Volume</th>\n",
       "    </tr>\n",
       "  </thead>\n",
       "  <tbody>\n",
       "    <tr>\n",
       "      <th>6033</th>\n",
       "      <td>2020-06-10</td>\n",
       "      <td>990.0</td>\n",
       "      <td>999.849976</td>\n",
       "      <td>978.200012</td>\n",
       "      <td>991.849976</td>\n",
       "      <td>991.849976</td>\n",
       "      <td>18248865.0</td>\n",
       "    </tr>\n",
       "    <tr>\n",
       "      <th>6034</th>\n",
       "      <td>2020-06-11</td>\n",
       "      <td>985.0</td>\n",
       "      <td>988.400024</td>\n",
       "      <td>965.000000</td>\n",
       "      <td>968.599976</td>\n",
       "      <td>968.599976</td>\n",
       "      <td>15448857.0</td>\n",
       "    </tr>\n",
       "    <tr>\n",
       "      <th>6035</th>\n",
       "      <td>2020-06-12</td>\n",
       "      <td>928.0</td>\n",
       "      <td>986.650024</td>\n",
       "      <td>928.000000</td>\n",
       "      <td>982.750000</td>\n",
       "      <td>982.750000</td>\n",
       "      <td>21322438.0</td>\n",
       "    </tr>\n",
       "    <tr>\n",
       "      <th>6036</th>\n",
       "      <td>2020-06-15</td>\n",
       "      <td>968.0</td>\n",
       "      <td>974.000000</td>\n",
       "      <td>943.000000</td>\n",
       "      <td>949.849976</td>\n",
       "      <td>949.849976</td>\n",
       "      <td>16004968.0</td>\n",
       "    </tr>\n",
       "    <tr>\n",
       "      <th>6037</th>\n",
       "      <td>2020-06-16</td>\n",
       "      <td>975.0</td>\n",
       "      <td>993.950012</td>\n",
       "      <td>952.000000</td>\n",
       "      <td>990.400024</td>\n",
       "      <td>990.400024</td>\n",
       "      <td>22699985.0</td>\n",
       "    </tr>\n",
       "  </tbody>\n",
       "</table>\n",
       "</div>"
      ],
      "text/plain": [
       "            Date   Open        High         Low       Close   Adj Close  \\\n",
       "6033  2020-06-10  990.0  999.849976  978.200012  991.849976  991.849976   \n",
       "6034  2020-06-11  985.0  988.400024  965.000000  968.599976  968.599976   \n",
       "6035  2020-06-12  928.0  986.650024  928.000000  982.750000  982.750000   \n",
       "6036  2020-06-15  968.0  974.000000  943.000000  949.849976  949.849976   \n",
       "6037  2020-06-16  975.0  993.950012  952.000000  990.400024  990.400024   \n",
       "\n",
       "          Volume  \n",
       "6033  18248865.0  \n",
       "6034  15448857.0  \n",
       "6035  21322438.0  \n",
       "6036  16004968.0  \n",
       "6037  22699985.0  "
      ]
     },
     "execution_count": 5,
     "metadata": {},
     "output_type": "execute_result"
    }
   ],
   "source": [
    "df.tail()"
   ]
  },
  {
   "cell_type": "code",
   "execution_count": 6,
   "metadata": {
    "colab": {},
    "colab_type": "code",
    "id": "ffdZfEa-rRuj"
   },
   "outputs": [],
   "source": [
    "df1=df.reset_index()['Close']"
   ]
  },
  {
   "cell_type": "code",
   "execution_count": 7,
   "metadata": {
    "colab": {
     "base_uri": "https://localhost:8080/",
     "height": 230
    },
    "colab_type": "code",
    "id": "TFjNoVWjrRul",
    "outputId": "dbb4b5ad-5ec5-483c-f7ea-84c697a9f948"
   },
   "outputs": [
    {
     "data": {
      "text/plain": [
       "0         2.980000\n",
       "1         2.975000\n",
       "2         2.985000\n",
       "3         2.965000\n",
       "4         2.960000\n",
       "           ...    \n",
       "6033    991.849976\n",
       "6034    968.599976\n",
       "6035    982.750000\n",
       "6036    949.849976\n",
       "6037    990.400024\n",
       "Name: Close, Length: 6038, dtype: float64"
      ]
     },
     "execution_count": 7,
     "metadata": {},
     "output_type": "execute_result"
    }
   ],
   "source": [
    "df1"
   ]
  },
  {
   "cell_type": "code",
   "execution_count": 8,
   "metadata": {
    "colab": {
     "base_uri": "https://localhost:8080/",
     "height": 283
    },
    "colab_type": "code",
    "id": "-WPdSGiArRun",
    "outputId": "a51bc96d-61e4-420f-b9b5-36e3685dfaf2"
   },
   "outputs": [
    {
     "data": {
      "text/plain": [
       "[<matplotlib.lines.Line2D at 0x25a84a14cd0>]"
      ]
     },
     "execution_count": 8,
     "metadata": {},
     "output_type": "execute_result"
    },
    {
     "data": {
      "image/png": "[encoded data removed]",
      "text/plain": [
       "<Figure size 640x480 with 1 Axes>"
      ]
     },
     "metadata": {},
     "output_type": "display_data"
    }
   ],
   "source": [
    "import matplotlib.pyplot as plt\n",
    "plt.plot(df1)"
   ]
  },
  {
   "cell_type": "code",
   "execution_count": null,
   "metadata": {
    "colab": {},
    "colab_type": "code",
    "id": "Be4Xnz9nrRup"
   },
   "outputs": [],
   "source": []
  },
  {
   "cell_type": "code",
   "execution_count": 9,
   "metadata": {
    "colab": {},
    "colab_type": "code",
    "id": "sDMY6lC7rRus"
   },
   "outputs": [],
   "source": [
    "import numpy as np"
   ]
  },
  {
   "cell_type": "code",
   "execution_count": 10,
   "metadata": {
    "colab": {
     "base_uri": "https://localhost:8080/",
     "height": 230
    },
    "colab_type": "code",
    "id": "Zi_DEfj4rRuu",
    "outputId": "c4a59f6e-c4aa-45c4-fa7b-3f6d94078f91"
   },
   "outputs": [
    {
     "data": {
      "text/plain": [
       "0         2.980000\n",
       "1         2.975000\n",
       "2         2.985000\n",
       "3         2.965000\n",
       "4         2.960000\n",
       "           ...    \n",
       "6033    991.849976\n",
       "6034    968.599976\n",
       "6035    982.750000\n",
       "6036    949.849976\n",
       "6037    990.400024\n",
       "Name: Close, Length: 6038, dtype: float64"
      ]
     },
     "execution_count": 10,
     "metadata": {},
     "output_type": "execute_result"
    }
   ],
   "source": [
    "df1"
   ]
  },
  {
   "cell_type": "code",
   "execution_count": 11,
   "metadata": {
    "colab": {},
    "colab_type": "code",
    "id": "6h8WXid2rRux"
   },
   "outputs": [],
   "source": [
    "from sklearn.preprocessing import MinMaxScaler\n",
    "scaler=MinMaxScaler(feature_range=(0,1))\n",
    "df1=scaler.fit_transform(np.array(df1).reshape(-1,1))"
   ]
  },
  {
   "cell_type": "code",
   "execution_count": 12,
   "metadata": {
    "colab": {
     "base_uri": "https://localhost:8080/",
     "height": 141
    },
    "colab_type": "code",
    "id": "uB56umkZrRuz",
    "outputId": "bff0825c-22e8-4666-e6b3-d6c271cbd5b2"
   },
   "outputs": [
    {
     "name": "stdout",
     "output_type": "stream",
     "text": [
      "[[4.19242049e-04]\n",
      " [4.15395791e-04]\n",
      " [4.23088306e-04]\n",
      " ...\n",
      " [7.54108751e-01]\n",
      " [7.28800359e-01]\n",
      " [7.59993543e-01]]\n"
     ]
    }
   ],
   "source": [
    "print(df1)"
   ]
  },
  {
   "cell_type": "code",
   "execution_count": 13,
   "metadata": {
    "colab": {},
    "colab_type": "code",
    "id": "_s5WQkzrrRu1"
   },
   "outputs": [],
   "source": [
    "\n",
    "training_size=int(len(df1)*0.65)\n",
    "test_size=len(df1)-training_size\n",
    "train_data,test_data=df1[0:training_size,:],df1[training_size:len(df1),:1]"
   ]
  },
  {
   "cell_type": "code",
   "execution_count": 19,
   "metadata": {
    "colab": {
     "base_uri": "https://localhost:8080/",
     "height": 35
    },
    "colab_type": "code",
    "id": "GOtyzLfMrRu3",
    "outputId": "98a5ce7e-3254-4937-c80e-24e2d1a68825"
   },
   "outputs": [
    {
     "data": {
      "text/plain": [
       "(3924, 2114)"
      ]
     },
     "execution_count": 19,
     "metadata": {},
     "output_type": "execute_result"
    }
   ],
   "source": [
    "training_size,test_size"
   ]
  },
  {
   "cell_type": "code",
   "execution_count": 20,
   "metadata": {
    "colab": {
     "base_uri": "https://localhost:8080/",
     "height": 141
    },
    "colab_type": "code",
    "id": "IZ0i8sKgrRu6",
    "outputId": "f568cc04-e3c3-4941-f6e3-4cefa34da942"
   },
   "outputs": [
    {
     "data": {
      "text/plain": [
       "array([[0.00041924],\n",
       "       [0.0004154 ],\n",
       "       [0.00042309],\n",
       "       ...,\n",
       "       [0.18393957],\n",
       "       [0.18345878],\n",
       "       [0.1839011 ]])"
      ]
     },
     "execution_count": 20,
     "metadata": {},
     "output_type": "execute_result"
    }
   ],
   "source": [
    "train_data"
   ]
  },
  {
   "cell_type": "code",
   "execution_count": 14,
   "metadata": {
    "colab": {},
    "colab_type": "code",
    "id": "OVivBpT-rRu8"
   },
   "outputs": [],
   "source": [
    "import numpy\n",
    "\n",
    "def create_dataset(dataset, time_step=1):\n",
    "\tdataX, dataY = [], []\n",
    "\tfor i in range(len(dataset)-time_step-1):\n",
    "\t\ta = dataset[i:(i+time_step), 0]   ###i=0, 0,1,2,3-----99   100 \n",
    "\t\tdataX.append(a)\n",
    "\t\tdataY.append(dataset[i + time_step, 0])\n",
    "\treturn numpy.array(dataX), numpy.array(dataY)"
   ]
  },
  {
   "cell_type": "code",
   "execution_count": 15,
   "metadata": {
    "colab": {},
    "colab_type": "code",
    "id": "esFZ5-JCrRu-"
   },
   "outputs": [],
   "source": [
    "\n",
    "time_step = 100\n",
    "X_train, y_train = create_dataset(train_data, time_step)\n",
    "X_test, ytest = create_dataset(test_data, time_step)"
   ]
  },
  {
   "cell_type": "code",
   "execution_count": 16,
   "metadata": {
    "colab": {
     "base_uri": "https://localhost:8080/",
     "height": 70
    },
    "colab_type": "code",
    "id": "tYVDSLb7rRvA",
    "outputId": "12e054c9-da01-4ee1-f668-e7d2e8a76520"
   },
   "outputs": [
    {
     "name": "stdout",
     "output_type": "stream",
     "text": [
      "(3823, 100)\n",
      "(3823,)\n"
     ]
    },
    {
     "data": {
      "text/plain": [
       "(None, None)"
      ]
     },
     "execution_count": 16,
     "metadata": {},
     "output_type": "execute_result"
    }
   ],
   "source": [
    "print(X_train.shape), print(y_train.shape)"
   ]
  },
  {
   "cell_type": "code",
   "execution_count": 17,
   "metadata": {
    "colab": {
     "base_uri": "https://localhost:8080/",
     "height": 70
    },
    "colab_type": "code",
    "id": "Fr9sxbRorRvC",
    "outputId": "64519e38-4244-4a66-e314-7fa3964582a6"
   },
   "outputs": [
    {
     "name": "stdout",
     "output_type": "stream",
     "text": [
      "(2013, 100)\n",
      "(2013,)\n"
     ]
    },
    {
     "data": {
      "text/plain": [
       "(None, None)"
      ]
     },
     "execution_count": 17,
     "metadata": {},
     "output_type": "execute_result"
    }
   ],
   "source": [
    "print(X_test.shape), print(ytest.shape)"
   ]
  },
  {
   "cell_type": "code",
   "execution_count": 18,
   "metadata": {
    "colab": {},
    "colab_type": "code",
    "id": "CFkbq1QfrRvE"
   },
   "outputs": [],
   "source": [
    "\n",
    "X_train =X_train.reshape(X_train.shape[0],X_train.shape[1] , 1)\n",
    "X_test = X_test.reshape(X_test.shape[0],X_test.shape[1] , 1)"
   ]
  },
  {
   "cell_type": "code",
   "execution_count": 19,
   "metadata": {
    "colab": {},
    "colab_type": "code",
    "id": "iHcLlyaVrRvH"
   },
   "outputs": [],
   "source": [
    "\n",
    "from tensorflow.keras.models import Sequential\n",
    "from tensorflow.keras.layers import Dense\n",
    "from tensorflow.keras.layers import LSTM"
   ]
  },
  {
   "cell_type": "code",
   "execution_count": 20,
   "metadata": {
    "colab": {},
    "colab_type": "code",
    "id": "poFG-46drRvJ"
   },
   "outputs": [],
   "source": [
    "model=Sequential()\n",
    "model.add(LSTM(50,return_sequences=True,input_shape=(100,1)))\n",
    "model.add(LSTM(50,return_sequences=True))\n",
    "model.add(LSTM(50))\n",
    "model.add(Dense(1))\n",
    "model.compile(loss='mean_squared_error',optimizer='adam')\n"
   ]
  },
  {
   "cell_type": "code",
   "execution_count": 21,
   "metadata": {
    "colab": {
     "base_uri": "https://localhost:8080/",
     "height": 301
    },
    "colab_type": "code",
    "id": "S0omXwnbrRvM",
    "outputId": "4110230f-64d8-4287-badb-fab79d2d026c"
   },
   "outputs": [
    {
     "name": "stdout",
     "output_type": "stream",
     "text": [
      "Model: \"sequential\"\n",
      "_________________________________________________________________\n",
      " Layer (type)                Output Shape              Param #   \n",
      "=================================================================\n",
      " lstm (LSTM)                 (None, 100, 50)           10400     \n",
      "                                                                 \n",
      " lstm_1 (LSTM)               (None, 100, 50)           20200     \n",
      "                                                                 \n",
      " lstm_2 (LSTM)               (None, 50)                20200     \n",
      "                                                                 \n",
      " dense (Dense)               (None, 1)                 51        \n",
      "                                                                 \n",
      "=================================================================\n",
      "Total params: 50,851\n",
      "Trainable params: 50,851\n",
      "Non-trainable params: 0\n",
      "_________________________________________________________________\n"
     ]
    }
   ],
   "source": [
    "model.summary()"
   ]
  },
  {
   "cell_type": "code",
   "execution_count": 22,
   "metadata": {
    "colab": {
     "base_uri": "https://localhost:8080/",
     "height": 301
    },
    "colab_type": "code",
    "id": "rpyTx5BrrRvO",
    "outputId": "1f2c32ab-ab7f-4cfd-cc9a-262a1997c09d"
   },
   "outputs": [
    {
     "name": "stdout",
     "output_type": "stream",
     "text": [
      "Model: \"sequential\"\n",
      "_________________________________________________________________\n",
      " Layer (type)                Output Shape              Param #   \n",
      "=================================================================\n",
      " lstm (LSTM)                 (None, 100, 50)           10400     \n",
      "                                                                 \n",
      " lstm_1 (LSTM)               (None, 100, 50)           20200     \n",
      "                                                                 \n",
      " lstm_2 (LSTM)               (None, 50)                20200     \n",
      "                                                                 \n",
      " dense (Dense)               (None, 1)                 51        \n",
      "                                                                 \n",
      "=================================================================\n",
      "Total params: 50,851\n",
      "Trainable params: 50,851\n",
      "Non-trainable params: 0\n",
      "_________________________________________________________________\n"
     ]
    }
   ],
   "source": [
    "model.summary()"
   ]
  },
  {
   "cell_type": "code",
   "execution_count": null,
   "metadata": {
    "colab": {},
    "colab_type": "code",
    "id": "SNoToMYMrRvQ"
   },
   "outputs": [],
   "source": []
  },
  {
   "cell_type": "code",
   "execution_count": 23,
   "metadata": {
    "colab": {
     "base_uri": "https://localhost:8080/",
     "height": 1000
    },
    "colab_type": "code",
    "id": "mxUYjxR0rRvS",
    "outputId": "2ad4fcab-d758-4a4d-dae5-97fb1199b634"
   },
   "outputs": [
    {
     "name": "stdout",
     "output_type": "stream",
     "text": [
      "Epoch 1/100\n",
      "60/60 [==============================] - 13s 135ms/step - loss: 4.6617e-04 - val_loss: 0.0014\n",
      "Epoch 2/100\n",
      "60/60 [==============================] - 7s 120ms/step - loss: 2.7870e-05 - val_loss: 0.0047\n",
      "Epoch 3/100\n",
      "60/60 [==============================] - 7s 118ms/step - loss: 2.5616e-05 - val_loss: 0.0044\n",
      "Epoch 4/100\n",
      "60/60 [==============================] - 7s 112ms/step - loss: 2.6091e-05 - val_loss: 0.0044\n",
      "Epoch 5/100\n",
      "60/60 [==============================] - 7s 117ms/step - loss: 2.6132e-05 - val_loss: 0.0049\n",
      "Epoch 6/100\n",
      "60/60 [==============================] - 7s 110ms/step - loss: 2.4961e-05 - val_loss: 0.0051\n",
      "Epoch 7/100\n",
      "60/60 [==============================] - 7s 113ms/step - loss: 2.5389e-05 - val_loss: 0.0046\n",
      "Epoch 8/100\n",
      "60/60 [==============================] - 7s 110ms/step - loss: 2.3978e-05 - val_loss: 0.0048\n",
      "Epoch 9/100\n",
      "60/60 [==============================] - 7s 111ms/step - loss: 2.4071e-05 - val_loss: 0.0059\n",
      "Epoch 10/100\n",
      "60/60 [==============================] - 7s 113ms/step - loss: 2.4361e-05 - val_loss: 0.0039\n",
      "Epoch 11/100\n",
      "60/60 [==============================] - 7s 110ms/step - loss: 2.2965e-05 - val_loss: 0.0033\n",
      "Epoch 12/100\n",
      "60/60 [==============================] - 7s 113ms/step - loss: 2.5187e-05 - val_loss: 0.0048\n",
      "Epoch 13/100\n",
      "60/60 [==============================] - 7s 110ms/step - loss: 2.3385e-05 - val_loss: 0.0033\n",
      "Epoch 14/100\n",
      "60/60 [==============================] - 7s 114ms/step - loss: 2.5797e-05 - val_loss: 0.0037\n",
      "Epoch 15/100\n",
      "60/60 [==============================] - 7s 112ms/step - loss: 2.0937e-05 - val_loss: 0.0042\n",
      "Epoch 16/100\n",
      "60/60 [==============================] - 7s 111ms/step - loss: 2.3935e-05 - val_loss: 0.0024\n",
      "Epoch 17/100\n",
      "60/60 [==============================] - 7s 117ms/step - loss: 2.0324e-05 - val_loss: 0.0024\n",
      "Epoch 18/100\n",
      "60/60 [==============================] - 7s 111ms/step - loss: 2.0800e-05 - val_loss: 0.0027\n",
      "Epoch 19/100\n",
      "60/60 [==============================] - 7s 116ms/step - loss: 2.0515e-05 - val_loss: 0.0032\n",
      "Epoch 20/100\n",
      "60/60 [==============================] - 7s 111ms/step - loss: 2.5110e-05 - val_loss: 0.0028\n",
      "Epoch 21/100\n",
      "60/60 [==============================] - 7s 112ms/step - loss: 2.0596e-05 - val_loss: 0.0030\n",
      "Epoch 22/100\n",
      "60/60 [==============================] - 7s 112ms/step - loss: 1.9738e-05 - val_loss: 0.0027\n",
      "Epoch 23/100\n",
      "60/60 [==============================] - 7s 111ms/step - loss: 1.9312e-05 - val_loss: 0.0029\n",
      "Epoch 24/100\n",
      "60/60 [==============================] - 7s 115ms/step - loss: 2.0070e-05 - val_loss: 0.0031\n",
      "Epoch 25/100\n",
      "60/60 [==============================] - 7s 112ms/step - loss: 1.8574e-05 - val_loss: 0.0010\n",
      "Epoch 26/100\n",
      "60/60 [==============================] - 7s 118ms/step - loss: 2.1087e-05 - val_loss: 0.0029\n",
      "Epoch 27/100\n",
      "60/60 [==============================] - 7s 112ms/step - loss: 2.0202e-05 - val_loss: 0.0023\n",
      "Epoch 28/100\n",
      "60/60 [==============================] - 7s 113ms/step - loss: 1.8175e-05 - val_loss: 0.0025\n",
      "Epoch 29/100\n",
      "60/60 [==============================] - 7s 115ms/step - loss: 1.8392e-05 - val_loss: 0.0022\n",
      "Epoch 30/100\n",
      "60/60 [==============================] - 7s 113ms/step - loss: 1.7829e-05 - val_loss: 0.0019\n",
      "Epoch 31/100\n",
      "60/60 [==============================] - 7s 117ms/step - loss: 1.8968e-05 - val_loss: 0.0036\n",
      "Epoch 32/100\n",
      "60/60 [==============================] - 7s 112ms/step - loss: 1.8746e-05 - val_loss: 0.0034\n",
      "Epoch 33/100\n",
      "60/60 [==============================] - 7s 115ms/step - loss: 2.0043e-05 - val_loss: 0.0016\n",
      "Epoch 34/100\n",
      "60/60 [==============================] - 7s 113ms/step - loss: 1.9365e-05 - val_loss: 0.0011\n",
      "Epoch 35/100\n",
      "60/60 [==============================] - 7s 113ms/step - loss: 1.7749e-05 - val_loss: 0.0028\n",
      "Epoch 36/100\n",
      "60/60 [==============================] - 7s 116ms/step - loss: 1.7674e-05 - val_loss: 0.0021\n",
      "Epoch 37/100\n",
      "60/60 [==============================] - 7s 114ms/step - loss: 1.5682e-05 - val_loss: 6.4447e-04\n",
      "Epoch 38/100\n",
      "60/60 [==============================] - 7s 116ms/step - loss: 2.1315e-05 - val_loss: 6.9116e-04\n",
      "Epoch 39/100\n",
      "60/60 [==============================] - 7s 113ms/step - loss: 1.9697e-05 - val_loss: 0.0014\n",
      "Epoch 40/100\n",
      "60/60 [==============================] - 7s 118ms/step - loss: 1.6849e-05 - val_loss: 0.0021\n",
      "Epoch 41/100\n",
      "60/60 [==============================] - 7s 111ms/step - loss: 1.7907e-05 - val_loss: 0.0017\n",
      "Epoch 42/100\n",
      "60/60 [==============================] - 7s 112ms/step - loss: 1.7961e-05 - val_loss: 7.8641e-04\n",
      "Epoch 43/100\n",
      "60/60 [==============================] - 7s 117ms/step - loss: 1.7719e-05 - val_loss: 9.9238e-04\n",
      "Epoch 44/100\n",
      "60/60 [==============================] - 7s 112ms/step - loss: 1.6172e-05 - val_loss: 9.3640e-04\n",
      "Epoch 45/100\n",
      "60/60 [==============================] - 7s 117ms/step - loss: 1.6633e-05 - val_loss: 0.0017\n",
      "Epoch 46/100\n",
      "60/60 [==============================] - 7s 112ms/step - loss: 1.7326e-05 - val_loss: 0.0027\n",
      "Epoch 47/100\n",
      "60/60 [==============================] - 7s 117ms/step - loss: 1.6503e-05 - val_loss: 0.0015\n",
      "Epoch 48/100\n",
      "60/60 [==============================] - 7s 111ms/step - loss: 1.5884e-05 - val_loss: 0.0022\n",
      "Epoch 49/100\n",
      "60/60 [==============================] - 7s 113ms/step - loss: 1.6888e-05 - val_loss: 8.3736e-04\n",
      "Epoch 50/100\n",
      "60/60 [==============================] - 7s 116ms/step - loss: 1.6876e-05 - val_loss: 0.0014\n",
      "Epoch 51/100\n",
      "60/60 [==============================] - 7s 113ms/step - loss: 1.6253e-05 - val_loss: 0.0016\n",
      "Epoch 52/100\n",
      "60/60 [==============================] - 7s 117ms/step - loss: 2.0398e-05 - val_loss: 0.0014\n",
      "Epoch 53/100\n",
      "60/60 [==============================] - 7s 115ms/step - loss: 1.5220e-05 - val_loss: 0.0037\n",
      "Epoch 54/100\n",
      "60/60 [==============================] - 7s 120ms/step - loss: 1.7788e-05 - val_loss: 8.4278e-04\n",
      "Epoch 55/100\n",
      "60/60 [==============================] - 7s 113ms/step - loss: 1.4954e-05 - val_loss: 8.0436e-04\n",
      "Epoch 56/100\n",
      "60/60 [==============================] - 7s 114ms/step - loss: 1.6991e-05 - val_loss: 0.0014\n",
      "Epoch 57/100\n",
      "60/60 [==============================] - 7s 116ms/step - loss: 1.5128e-05 - val_loss: 0.0012\n",
      "Epoch 58/100\n",
      "60/60 [==============================] - 7s 114ms/step - loss: 1.4811e-05 - val_loss: 0.0021\n",
      "Epoch 59/100\n",
      "60/60 [==============================] - 7s 117ms/step - loss: 1.5791e-05 - val_loss: 0.0017\n",
      "Epoch 60/100\n",
      "60/60 [==============================] - 7s 113ms/step - loss: 1.5594e-05 - val_loss: 6.6357e-04\n",
      "Epoch 61/100\n",
      "60/60 [==============================] - 7s 119ms/step - loss: 1.4559e-05 - val_loss: 0.0018\n",
      "Epoch 62/100\n",
      "60/60 [==============================] - 7s 114ms/step - loss: 1.7385e-05 - val_loss: 6.2818e-04\n",
      "Epoch 63/100\n",
      "60/60 [==============================] - 7s 117ms/step - loss: 1.4149e-05 - val_loss: 0.0014\n",
      "Epoch 64/100\n",
      "60/60 [==============================] - 7s 117ms/step - loss: 1.4844e-05 - val_loss: 9.5988e-04\n",
      "Epoch 65/100\n",
      "60/60 [==============================] - 7s 112ms/step - loss: 1.5061e-05 - val_loss: 0.0012\n",
      "Epoch 66/100\n",
      "60/60 [==============================] - 7s 119ms/step - loss: 1.4440e-05 - val_loss: 0.0012\n",
      "Epoch 67/100\n",
      "60/60 [==============================] - 7s 114ms/step - loss: 1.6427e-05 - val_loss: 0.0013\n",
      "Epoch 68/100\n",
      "60/60 [==============================] - 7s 117ms/step - loss: 1.4706e-05 - val_loss: 0.0010\n",
      "Epoch 69/100\n",
      "60/60 [==============================] - 7s 113ms/step - loss: 1.4361e-05 - val_loss: 0.0013\n",
      "Epoch 70/100\n",
      "60/60 [==============================] - 7s 118ms/step - loss: 1.4085e-05 - val_loss: 0.0015\n",
      "Epoch 71/100\n",
      "60/60 [==============================] - 7s 116ms/step - loss: 1.6839e-05 - val_loss: 0.0029\n",
      "Epoch 72/100\n",
      "60/60 [==============================] - 7s 114ms/step - loss: 1.4263e-05 - val_loss: 0.0019\n",
      "Epoch 73/100\n",
      "60/60 [==============================] - 7s 117ms/step - loss: 1.3346e-05 - val_loss: 0.0013\n",
      "Epoch 74/100\n",
      "60/60 [==============================] - 7s 114ms/step - loss: 1.2851e-05 - val_loss: 0.0016\n",
      "Epoch 75/100\n",
      "60/60 [==============================] - 7s 122ms/step - loss: 1.5961e-05 - val_loss: 0.0020\n",
      "Epoch 76/100\n",
      "60/60 [==============================] - 7s 113ms/step - loss: 1.4351e-05 - val_loss: 0.0016\n",
      "Epoch 77/100\n",
      "60/60 [==============================] - 7s 117ms/step - loss: 1.4309e-05 - val_loss: 0.0022\n"
     ]
    },
    {
     "name": "stdout",
     "output_type": "stream",
     "text": [
      "Epoch 78/100\n",
      "60/60 [==============================] - 7s 113ms/step - loss: 1.4219e-05 - val_loss: 0.0017\n",
      "Epoch 79/100\n",
      "60/60 [==============================] - 7s 110ms/step - loss: 1.3184e-05 - val_loss: 5.9620e-04\n",
      "Epoch 80/100\n",
      "60/60 [==============================] - 7s 117ms/step - loss: 1.4107e-05 - val_loss: 0.0010\n",
      "Epoch 81/100\n",
      "60/60 [==============================] - 7s 112ms/step - loss: 1.3093e-05 - val_loss: 5.3304e-04\n",
      "Epoch 82/100\n",
      "60/60 [==============================] - 7s 117ms/step - loss: 1.7031e-05 - val_loss: 0.0019\n",
      "Epoch 83/100\n",
      "60/60 [==============================] - 7s 112ms/step - loss: 1.4253e-05 - val_loss: 0.0017\n",
      "Epoch 84/100\n",
      "60/60 [==============================] - 7s 113ms/step - loss: 1.3717e-05 - val_loss: 0.0018\n",
      "Epoch 85/100\n",
      "60/60 [==============================] - 7s 113ms/step - loss: 1.3988e-05 - val_loss: 0.0015\n",
      "Epoch 86/100\n",
      "60/60 [==============================] - 7s 112ms/step - loss: 1.3023e-05 - val_loss: 0.0015\n",
      "Epoch 87/100\n",
      "60/60 [==============================] - 7s 117ms/step - loss: 1.4366e-05 - val_loss: 0.0018\n",
      "Epoch 88/100\n",
      "60/60 [==============================] - 7s 111ms/step - loss: 1.3580e-05 - val_loss: 0.0012\n",
      "Epoch 89/100\n",
      "60/60 [==============================] - 7s 118ms/step - loss: 1.3846e-05 - val_loss: 6.4926e-04\n",
      "Epoch 90/100\n",
      "60/60 [==============================] - 7s 113ms/step - loss: 1.4607e-05 - val_loss: 0.0021\n",
      "Epoch 91/100\n",
      "60/60 [==============================] - 7s 116ms/step - loss: 1.4065e-05 - val_loss: 0.0011\n",
      "Epoch 92/100\n",
      "60/60 [==============================] - 7s 115ms/step - loss: 1.4634e-05 - val_loss: 9.3368e-04\n",
      "Epoch 93/100\n",
      "60/60 [==============================] - 7s 113ms/step - loss: 1.4316e-05 - val_loss: 0.0017\n",
      "Epoch 94/100\n",
      "60/60 [==============================] - 7s 119ms/step - loss: 1.3170e-05 - val_loss: 0.0013\n",
      "Epoch 95/100\n",
      "60/60 [==============================] - 7s 113ms/step - loss: 1.3694e-05 - val_loss: 7.1890e-04\n",
      "Epoch 96/100\n",
      "60/60 [==============================] - 7s 116ms/step - loss: 1.3163e-05 - val_loss: 0.0013\n",
      "Epoch 97/100\n",
      "60/60 [==============================] - 7s 112ms/step - loss: 1.3099e-05 - val_loss: 0.0015\n",
      "Epoch 98/100\n",
      "60/60 [==============================] - 7s 115ms/step - loss: 1.4457e-05 - val_loss: 0.0023\n",
      "Epoch 99/100\n",
      "60/60 [==============================] - 7s 118ms/step - loss: 1.3231e-05 - val_loss: 0.0014\n",
      "Epoch 100/100\n",
      "60/60 [==============================] - 7s 112ms/step - loss: 1.3649e-05 - val_loss: 0.0011\n"
     ]
    },
    {
     "data": {
      "text/plain": [
       "<keras.callbacks.History at 0x25a8fa377f0>"
      ]
     },
     "execution_count": 23,
     "metadata": {},
     "output_type": "execute_result"
    }
   ],
   "source": [
    "model.fit(X_train,y_train,validation_data=(X_test,ytest),epochs=100,batch_size=64,verbose=1)"
   ]
  },
  {
   "cell_type": "code",
   "execution_count": 27,
   "metadata": {
    "colab": {},
    "colab_type": "code",
    "id": "jbB-aLLorRvU"
   },
   "outputs": [],
   "source": [
    "import tensorflow as tf"
   ]
  },
  {
   "cell_type": "code",
   "execution_count": 28,
   "metadata": {
    "colab": {
     "base_uri": "https://localhost:8080/",
     "height": 35
    },
    "colab_type": "code",
    "id": "kaI1o8UirRvX",
    "outputId": "bf8eeabd-48a9-47ee-c2d3-2b47be3b4ef5"
   },
   "outputs": [
    {
     "data": {
      "text/plain": [
       "'2.10.0'"
      ]
     },
     "execution_count": 28,
     "metadata": {},
     "output_type": "execute_result"
    }
   ],
   "source": [
    "tf.__version__"
   ]
  },
  {
   "cell_type": "code",
   "execution_count": 30,
   "metadata": {
    "colab": {},
    "colab_type": "code",
    "id": "4OySzUXOrRvY"
   },
   "outputs": [
    {
     "name": "stdout",
     "output_type": "stream",
     "text": [
      "120/120 [==============================] - 3s 21ms/step\n",
      "63/63 [==============================] - 1s 21ms/step\n"
     ]
    }
   ],
   "source": [
    "\n",
    "train_predict=model.predict(X_train)\n",
    "test_predict=model.predict(X_test)"
   ]
  },
  {
   "cell_type": "code",
   "execution_count": 31,
   "metadata": {
    "colab": {},
    "colab_type": "code",
    "id": "FPngNYH-rRva"
   },
   "outputs": [],
   "source": [
    "\n",
    "train_predict=scaler.inverse_transform(train_predict)\n",
    "test_predict=scaler.inverse_transform(test_predict)"
   ]
  },
  {
   "cell_type": "code",
   "execution_count": 32,
   "metadata": {
    "colab": {
     "base_uri": "https://localhost:8080/",
     "height": 35
    },
    "colab_type": "code",
    "id": "J2EjoFqtrRvc",
    "outputId": "27f05fb9-3986-4f61-c25c-7e00ad9e545d"
   },
   "outputs": [
    {
     "data": {
      "text/plain": [
       "102.1357765187888"
      ]
     },
     "execution_count": 32,
     "metadata": {},
     "output_type": "execute_result"
    }
   ],
   "source": [
    "\n",
    "import math\n",
    "from sklearn.metrics import mean_squared_error\n",
    "math.sqrt(mean_squared_error(y_train,train_predict))"
   ]
  },
  {
   "cell_type": "code",
   "execution_count": 33,
   "metadata": {
    "colab": {
     "base_uri": "https://localhost:8080/",
     "height": 35
    },
    "colab_type": "code",
    "id": "A-zm_YfKrRve",
    "outputId": "7965f169-6cbb-4e69-987c-7460009953b4"
   },
   "outputs": [
    {
     "data": {
      "text/plain": [
       "703.6137692158983"
      ]
     },
     "execution_count": 33,
     "metadata": {},
     "output_type": "execute_result"
    }
   ],
   "source": [
    "\n",
    "math.sqrt(mean_squared_error(ytest,test_predict))"
   ]
  },
  {
   "cell_type": "code",
   "execution_count": 34,
   "metadata": {
    "colab": {
     "base_uri": "https://localhost:8080/",
     "height": 265
    },
    "colab_type": "code",
    "id": "TaNfj-SIrRvg",
    "outputId": "c99098ea-fadb-41e3-b2e2-335aadef6248"
   },
   "outputs": [
    {
     "data": {
      "image/png": "[encoded data removed]",
      "text/plain": [
       "<Figure size 640x480 with 1 Axes>"
      ]
     },
     "metadata": {},
     "output_type": "display_data"
    }
   ],
   "source": [
    " \n",
    "\n",
    "look_back=100\n",
    "trainPredictPlot = numpy.empty_like(df1)\n",
    "trainPredictPlot[:, :] = np.nan\n",
    "trainPredictPlot[look_back:len(train_predict)+look_back, :] = train_predict\n",
    "\n",
    "testPredictPlot = numpy.empty_like(df1)\n",
    "testPredictPlot[:, :] = numpy.nan\n",
    "testPredictPlot[len(train_predict)+(look_back*2)+1:len(df1)-1, :] = test_predict\n",
    "\n",
    "plt.plot(scaler.inverse_transform(df1))\n",
    "plt.plot(trainPredictPlot)\n",
    "plt.plot(testPredictPlot)\n",
    "plt.show()"
   ]
  },
  {
   "cell_type": "code",
   "execution_count": 35,
   "metadata": {
    "colab": {
     "base_uri": "https://localhost:8080/",
     "height": 35
    },
    "colab_type": "code",
    "id": "-tntmXTsrRvj",
    "outputId": "834c7db5-dfce-42a3-9952-714e2f80167f"
   },
   "outputs": [
    {
     "data": {
      "text/plain": [
       "2114"
      ]
     },
     "execution_count": 35,
     "metadata": {},
     "output_type": "execute_result"
    }
   ],
   "source": [
    "len(test_data)"
   ]
  },
  {
   "cell_type": "code",
   "execution_count": 36,
   "metadata": {
    "colab": {
     "base_uri": "https://localhost:8080/",
     "height": 35
    },
    "colab_type": "code",
    "id": "VvfzYLhQrRvl",
    "outputId": "645c4021-65bd-450e-f586-55962f4adaf8"
   },
   "outputs": [
    {
     "data": {
      "text/plain": [
       "(1, 121)"
      ]
     },
     "execution_count": 36,
     "metadata": {},
     "output_type": "execute_result"
    }
   ],
   "source": [
    "x_input=test_data[1993:].reshape(1,-1)\n",
    "x_input.shape\n"
   ]
  },
  {
   "cell_type": "code",
   "execution_count": null,
   "metadata": {
    "colab": {},
    "colab_type": "code",
    "id": "LIk3o7ctrRvn"
   },
   "outputs": [],
   "source": []
  },
  {
   "cell_type": "code",
   "execution_count": null,
   "metadata": {
    "colab": {},
    "colab_type": "code",
    "id": "9cQI6v6MrRvo"
   },
   "outputs": [],
   "source": []
  },
  {
   "cell_type": "code",
   "execution_count": 37,
   "metadata": {
    "colab": {},
    "colab_type": "code",
    "id": "q3c1HQs-rRvt"
   },
   "outputs": [],
   "source": [
    "temp_input=list(x_input)\n",
    "temp_input=temp_input[0].tolist()"
   ]
  },
  {
   "cell_type": "code",
   "execution_count": 38,
   "metadata": {
    "colab": {
     "base_uri": "https://localhost:8080/",
     "height": 1000
    },
    "colab_type": "code",
    "id": "lYNwgPtrrRvv",
    "outputId": "c7fb537f-b9f2-4e2f-f46c-c50d81660f1a"
   },
   "outputs": [
    {
     "data": {
      "text/plain": [
       "[0.9922689858461914,\n",
       " 0.9895381992985065,\n",
       " 0.9956152104904631,\n",
       " 1.0,\n",
       " 0.9898074180801959,\n",
       " 0.9754223595172664,\n",
       " 0.9789224913792757,\n",
       " 0.9844226578206768,\n",
       " 0.9766916436668682,\n",
       " 0.9816917781935646,\n",
       " 0.9879611961006113,\n",
       " 0.97384545016805,\n",
       " 0.9527294412807217,\n",
       " 0.967845251811944,\n",
       " 0.9653067781306706,\n",
       " 0.9761532045649868,\n",
       " 0.9848456899714249,\n",
       " 0.9873842575013771,\n",
       " 0.9900766376311366,\n",
       " 0.9860380674364974,\n",
       " 0.9886535408817275,\n",
       " 0.9813456519580944,\n",
       " 0.9634605553818346,\n",
       " 0.9553449154952032,\n",
       " 0.9526525353654437,\n",
       " 0.955729541228026,\n",
       " 0.9554988219436893,\n",
       " 0.9313827131090566,\n",
       " 0.9390752277655124,\n",
       " 0.9488062780372157,\n",
       " 0.9412676698292459,\n",
       " 0.9414599826956573,\n",
       " 0.9156900585965302,\n",
       " 0.9441523628254169,\n",
       " 0.9555757278589673,\n",
       " 0.9518448774818727,\n",
       " 0.9536910056127786,\n",
       " 0.9522295032146956,\n",
       " 0.9524602224990323,\n",
       " 0.9589219532724904,\n",
       " 0.9530756605956191,\n",
       " 0.9361136288540636,\n",
       " 0.9344213125537136,\n",
       " 0.9314212133756606,\n",
       " 0.9421522336280949,\n",
       " 0.934382813056361,\n",
       " 0.9288826458457085,\n",
       " 0.9214594445888721,\n",
       " 0.9206516928566225,\n",
       " 0.9208055054564298,\n",
       " 0.904035879660713,\n",
       " 0.9055358830946515,\n",
       " 0.9072282924744288,\n",
       " 0.8818814005260497,\n",
       " 0.8838045291901637,\n",
       " 0.8711503795043641,\n",
       " 0.8499190582838326,\n",
       " 0.8549191928105289,\n",
       " 0.7837633853139728,\n",
       " 0.8210721283221231,\n",
       " 0.7669937125939166,\n",
       " 0.7482239583701291,\n",
       " 0.6726835013678029,\n",
       " 0.6870300135090404,\n",
       " 0.6772605106643237,\n",
       " 0.5916428317689876,\n",
       " 0.5886812320882873,\n",
       " 0.6571830658730091,\n",
       " 0.6912993499123556,\n",
       " 0.6938763700153212,\n",
       " 0.6378748725473401,\n",
       " 0.6611447293831191,\n",
       " 0.6363363696160489,\n",
       " 0.6241821595347783,\n",
       " 0.6874530925841278,\n",
       " 0.6819145189555499,\n",
       " 0.7097229317455851,\n",
       " 0.6868761539848935,\n",
       " 0.6622216537419702,\n",
       " 0.6748758495828576,\n",
       " 0.6983764726273127,\n",
       " 0.7249541015343501,\n",
       " 0.7071075044554429,\n",
       " 0.7124537652176093,\n",
       " 0.7327235690304233,\n",
       " 0.7197232007989777,\n",
       " 0.7132999695228722,\n",
       " 0.7146077062454873,\n",
       " 0.7497624613014202,\n",
       " 0.7687629817338838,\n",
       " 0.7081459754720292,\n",
       " 0.6992611302748403,\n",
       " 0.7261464782301712,\n",
       " 0.7096844784033204,\n",
       " 0.7127999376081674,\n",
       " 0.7026073556883634,\n",
       " 0.6916455223029138,\n",
       " 0.7117230132493164,\n",
       " 0.685606916759631,\n",
       " 0.6813375803563158,\n",
       " 0.6417211298755681,\n",
       " 0.6371056210816946,\n",
       " 0.6574522854239498,\n",
       " 0.6593369607457993,\n",
       " 0.6434134461759179,\n",
       " 0.653836840459486,\n",
       " 0.6932609780738224,\n",
       " 0.7252618205826435,\n",
       " 0.7301850484248105,\n",
       " 0.7578781011880515,\n",
       " 0.768147589792385,\n",
       " 0.7844941834373537,\n",
       " 0.7686860750493545,\n",
       " 0.7930328562439845,\n",
       " 0.7796094550925394,\n",
       " 0.7576088354820228,\n",
       " 0.7611089204196927,\n",
       " 0.7432238238434328,\n",
       " 0.754108750544353,\n",
       " 0.728800358862578,\n",
       " 0.759993542718577]"
      ]
     },
     "execution_count": 38,
     "metadata": {},
     "output_type": "execute_result"
    }
   ],
   "source": [
    "temp_input"
   ]
  },
  {
   "cell_type": "code",
   "execution_count": 39,
   "metadata": {
    "colab": {
     "base_uri": "https://localhost:8080/",
     "height": 1000
    },
    "colab_type": "code",
    "id": "NEGFpENPrRvx",
    "outputId": "624d9111-1a7d-43a6-8580-512ff34abfce"
   },
   "outputs": [
    {
     "name": "stdout",
     "output_type": "stream",
     "text": [
      "0 day input [0.9895382  0.99561521 1.         0.98980742 0.97542236 0.97892249\n",
      " 0.98442266 0.97669164 0.98169178 0.9879612  0.97384545 0.95272944\n",
      " 0.96784525 0.96530678 0.9761532  0.98484569 0.98738426 0.99007664\n",
      " 0.98603807 0.98865354 0.98134565 0.96346056 0.95534492 0.95265254\n",
      " 0.95572954 0.95549882 0.93138271 0.93907523 0.94880628 0.94126767\n",
      " 0.94145998 0.91569006 0.94415236 0.95557573 0.95184488 0.95369101\n",
      " 0.9522295  0.95246022 0.95892195 0.95307566 0.93611363 0.93442131\n",
      " 0.93142121 0.94215223 0.93438281 0.92888265 0.92145944 0.92065169\n",
      " 0.92080551 0.90403588 0.90553588 0.90722829 0.8818814  0.88380453\n",
      " 0.87115038 0.84991906 0.85491919 0.78376339 0.82107213 0.76699371\n",
      " 0.74822396 0.6726835  0.68703001 0.67726051 0.59164283 0.58868123\n",
      " 0.65718307 0.69129935 0.69387637 0.63787487 0.66114473 0.63633637\n",
      " 0.62418216 0.68745309 0.68191452 0.70972293 0.68687615 0.66222165\n",
      " 0.67487585 0.69837647 0.7249541  0.7071075  0.71245377 0.73272357\n",
      " 0.7197232  0.71329997 0.71460771 0.74976246 0.76876298 0.70814598\n",
      " 0.69926113 0.72614648 0.70968448 0.71279994 0.70260736 0.69164552\n",
      " 0.71172301 0.68560692 0.68133758 0.64172113 0.63710562 0.65745229\n",
      " 0.65933696 0.64341345 0.65383684 0.69326098 0.72526182 0.73018505\n",
      " 0.7578781  0.76814759 0.78449418 0.76868608 0.79303286 0.77960946\n",
      " 0.75760884 0.76110892 0.74322382 0.75410875 0.72880036 0.75999354]\n",
      "0 day output [[0.71354836]]\n",
      "1 day input [0.99561521 1.         0.98980742 0.97542236 0.97892249 0.98442266\n",
      " 0.97669164 0.98169178 0.9879612  0.97384545 0.95272944 0.96784525\n",
      " 0.96530678 0.9761532  0.98484569 0.98738426 0.99007664 0.98603807\n",
      " 0.98865354 0.98134565 0.96346056 0.95534492 0.95265254 0.95572954\n",
      " 0.95549882 0.93138271 0.93907523 0.94880628 0.94126767 0.94145998\n",
      " 0.91569006 0.94415236 0.95557573 0.95184488 0.95369101 0.9522295\n",
      " 0.95246022 0.95892195 0.95307566 0.93611363 0.93442131 0.93142121\n",
      " 0.94215223 0.93438281 0.92888265 0.92145944 0.92065169 0.92080551\n",
      " 0.90403588 0.90553588 0.90722829 0.8818814  0.88380453 0.87115038\n",
      " 0.84991906 0.85491919 0.78376339 0.82107213 0.76699371 0.74822396\n",
      " 0.6726835  0.68703001 0.67726051 0.59164283 0.58868123 0.65718307\n",
      " 0.69129935 0.69387637 0.63787487 0.66114473 0.63633637 0.62418216\n",
      " 0.68745309 0.68191452 0.70972293 0.68687615 0.66222165 0.67487585\n",
      " 0.69837647 0.7249541  0.7071075  0.71245377 0.73272357 0.7197232\n",
      " 0.71329997 0.71460771 0.74976246 0.76876298 0.70814598 0.69926113\n",
      " 0.72614648 0.70968448 0.71279994 0.70260736 0.69164552 0.71172301\n",
      " 0.68560692 0.68133758 0.64172113 0.63710562 0.65745229 0.65933696\n",
      " 0.64341345 0.65383684 0.69326098 0.72526182 0.73018505 0.7578781\n",
      " 0.76814759 0.78449418 0.76868608 0.79303286 0.77960946 0.75760884\n",
      " 0.76110892 0.74322382 0.75410875 0.72880036 0.75999354 0.71354836]\n",
      "1 day output [[0.6975969]]\n",
      "2 day input [1.         0.98980742 0.97542236 0.97892249 0.98442266 0.97669164\n",
      " 0.98169178 0.9879612  0.97384545 0.95272944 0.96784525 0.96530678\n",
      " 0.9761532  0.98484569 0.98738426 0.99007664 0.98603807 0.98865354\n",
      " 0.98134565 0.96346056 0.95534492 0.95265254 0.95572954 0.95549882\n",
      " 0.93138271 0.93907523 0.94880628 0.94126767 0.94145998 0.91569006\n",
      " 0.94415236 0.95557573 0.95184488 0.95369101 0.9522295  0.95246022\n",
      " 0.95892195 0.95307566 0.93611363 0.93442131 0.93142121 0.94215223\n",
      " 0.93438281 0.92888265 0.92145944 0.92065169 0.92080551 0.90403588\n",
      " 0.90553588 0.90722829 0.8818814  0.88380453 0.87115038 0.84991906\n",
      " 0.85491919 0.78376339 0.82107213 0.76699371 0.74822396 0.6726835\n",
      " 0.68703001 0.67726051 0.59164283 0.58868123 0.65718307 0.69129935\n",
      " 0.69387637 0.63787487 0.66114473 0.63633637 0.62418216 0.68745309\n",
      " 0.68191452 0.70972293 0.68687615 0.66222165 0.67487585 0.69837647\n",
      " 0.7249541  0.7071075  0.71245377 0.73272357 0.7197232  0.71329997\n",
      " 0.71460771 0.74976246 0.76876298 0.70814598 0.69926113 0.72614648\n",
      " 0.70968448 0.71279994 0.70260736 0.69164552 0.71172301 0.68560692\n",
      " 0.68133758 0.64172113 0.63710562 0.65745229 0.65933696 0.64341345\n",
      " 0.65383684 0.69326098 0.72526182 0.73018505 0.7578781  0.76814759\n",
      " 0.78449418 0.76868608 0.79303286 0.77960946 0.75760884 0.76110892\n",
      " 0.74322382 0.75410875 0.72880036 0.75999354 0.71354836 0.69759691]\n",
      "2 day output [[0.6803746]]\n",
      "3 day input [0.98980742 0.97542236 0.97892249 0.98442266 0.97669164 0.98169178\n",
      " 0.9879612  0.97384545 0.95272944 0.96784525 0.96530678 0.9761532\n",
      " 0.98484569 0.98738426 0.99007664 0.98603807 0.98865354 0.98134565\n",
      " 0.96346056 0.95534492 0.95265254 0.95572954 0.95549882 0.93138271\n",
      " 0.93907523 0.94880628 0.94126767 0.94145998 0.91569006 0.94415236\n",
      " 0.95557573 0.95184488 0.95369101 0.9522295  0.95246022 0.95892195\n",
      " 0.95307566 0.93611363 0.93442131 0.93142121 0.94215223 0.93438281\n",
      " 0.92888265 0.92145944 0.92065169 0.92080551 0.90403588 0.90553588\n",
      " 0.90722829 0.8818814  0.88380453 0.87115038 0.84991906 0.85491919\n",
      " 0.78376339 0.82107213 0.76699371 0.74822396 0.6726835  0.68703001\n",
      " 0.67726051 0.59164283 0.58868123 0.65718307 0.69129935 0.69387637\n",
      " 0.63787487 0.66114473 0.63633637 0.62418216 0.68745309 0.68191452\n",
      " 0.70972293 0.68687615 0.66222165 0.67487585 0.69837647 0.7249541\n",
      " 0.7071075  0.71245377 0.73272357 0.7197232  0.71329997 0.71460771\n",
      " 0.74976246 0.76876298 0.70814598 0.69926113 0.72614648 0.70968448\n",
      " 0.71279994 0.70260736 0.69164552 0.71172301 0.68560692 0.68133758\n",
      " 0.64172113 0.63710562 0.65745229 0.65933696 0.64341345 0.65383684\n",
      " 0.69326098 0.72526182 0.73018505 0.7578781  0.76814759 0.78449418\n",
      " 0.76868608 0.79303286 0.77960946 0.75760884 0.76110892 0.74322382\n",
      " 0.75410875 0.72880036 0.75999354 0.71354836 0.69759691 0.68037462]\n",
      "3 day output [[0.6653073]]\n",
      "4 day input [0.97542236 0.97892249 0.98442266 0.97669164 0.98169178 0.9879612\n",
      " 0.97384545 0.95272944 0.96784525 0.96530678 0.9761532  0.98484569\n",
      " 0.98738426 0.99007664 0.98603807 0.98865354 0.98134565 0.96346056\n",
      " 0.95534492 0.95265254 0.95572954 0.95549882 0.93138271 0.93907523\n",
      " 0.94880628 0.94126767 0.94145998 0.91569006 0.94415236 0.95557573\n",
      " 0.95184488 0.95369101 0.9522295  0.95246022 0.95892195 0.95307566\n",
      " 0.93611363 0.93442131 0.93142121 0.94215223 0.93438281 0.92888265\n",
      " 0.92145944 0.92065169 0.92080551 0.90403588 0.90553588 0.90722829\n",
      " 0.8818814  0.88380453 0.87115038 0.84991906 0.85491919 0.78376339\n",
      " 0.82107213 0.76699371 0.74822396 0.6726835  0.68703001 0.67726051\n",
      " 0.59164283 0.58868123 0.65718307 0.69129935 0.69387637 0.63787487\n",
      " 0.66114473 0.63633637 0.62418216 0.68745309 0.68191452 0.70972293\n",
      " 0.68687615 0.66222165 0.67487585 0.69837647 0.7249541  0.7071075\n",
      " 0.71245377 0.73272357 0.7197232  0.71329997 0.71460771 0.74976246\n",
      " 0.76876298 0.70814598 0.69926113 0.72614648 0.70968448 0.71279994\n",
      " 0.70260736 0.69164552 0.71172301 0.68560692 0.68133758 0.64172113\n",
      " 0.63710562 0.65745229 0.65933696 0.64341345 0.65383684 0.69326098\n",
      " 0.72526182 0.73018505 0.7578781  0.76814759 0.78449418 0.76868608\n",
      " 0.79303286 0.77960946 0.75760884 0.76110892 0.74322382 0.75410875\n",
      " 0.72880036 0.75999354 0.71354836 0.69759691 0.68037462 0.66530728]\n",
      "4 day output [[0.6522733]]\n",
      "5 day input [0.97892249 0.98442266 0.97669164 0.98169178 0.9879612  0.97384545\n",
      " 0.95272944 0.96784525 0.96530678 0.9761532  0.98484569 0.98738426\n",
      " 0.99007664 0.98603807 0.98865354 0.98134565 0.96346056 0.95534492\n",
      " 0.95265254 0.95572954 0.95549882 0.93138271 0.93907523 0.94880628\n",
      " 0.94126767 0.94145998 0.91569006 0.94415236 0.95557573 0.95184488\n",
      " 0.95369101 0.9522295  0.95246022 0.95892195 0.95307566 0.93611363\n",
      " 0.93442131 0.93142121 0.94215223 0.93438281 0.92888265 0.92145944\n",
      " 0.92065169 0.92080551 0.90403588 0.90553588 0.90722829 0.8818814\n",
      " 0.88380453 0.87115038 0.84991906 0.85491919 0.78376339 0.82107213\n",
      " 0.76699371 0.74822396 0.6726835  0.68703001 0.67726051 0.59164283\n",
      " 0.58868123 0.65718307 0.69129935 0.69387637 0.63787487 0.66114473\n",
      " 0.63633637 0.62418216 0.68745309 0.68191452 0.70972293 0.68687615\n",
      " 0.66222165 0.67487585 0.69837647 0.7249541  0.7071075  0.71245377\n",
      " 0.73272357 0.7197232  0.71329997 0.71460771 0.74976246 0.76876298\n",
      " 0.70814598 0.69926113 0.72614648 0.70968448 0.71279994 0.70260736\n",
      " 0.69164552 0.71172301 0.68560692 0.68133758 0.64172113 0.63710562\n",
      " 0.65745229 0.65933696 0.64341345 0.65383684 0.69326098 0.72526182\n",
      " 0.73018505 0.7578781  0.76814759 0.78449418 0.76868608 0.79303286\n",
      " 0.77960946 0.75760884 0.76110892 0.74322382 0.75410875 0.72880036\n",
      " 0.75999354 0.71354836 0.69759691 0.68037462 0.66530728 0.6522733 ]\n",
      "5 day output [[0.64079094]]\n",
      "6 day input [0.98442266 0.97669164 0.98169178 0.9879612  0.97384545 0.95272944\n",
      " 0.96784525 0.96530678 0.9761532  0.98484569 0.98738426 0.99007664\n",
      " 0.98603807 0.98865354 0.98134565 0.96346056 0.95534492 0.95265254\n",
      " 0.95572954 0.95549882 0.93138271 0.93907523 0.94880628 0.94126767\n",
      " 0.94145998 0.91569006 0.94415236 0.95557573 0.95184488 0.95369101\n",
      " 0.9522295  0.95246022 0.95892195 0.95307566 0.93611363 0.93442131\n",
      " 0.93142121 0.94215223 0.93438281 0.92888265 0.92145944 0.92065169\n",
      " 0.92080551 0.90403588 0.90553588 0.90722829 0.8818814  0.88380453\n",
      " 0.87115038 0.84991906 0.85491919 0.78376339 0.82107213 0.76699371\n",
      " 0.74822396 0.6726835  0.68703001 0.67726051 0.59164283 0.58868123\n",
      " 0.65718307 0.69129935 0.69387637 0.63787487 0.66114473 0.63633637\n",
      " 0.62418216 0.68745309 0.68191452 0.70972293 0.68687615 0.66222165\n",
      " 0.67487585 0.69837647 0.7249541  0.7071075  0.71245377 0.73272357\n",
      " 0.7197232  0.71329997 0.71460771 0.74976246 0.76876298 0.70814598\n",
      " 0.69926113 0.72614648 0.70968448 0.71279994 0.70260736 0.69164552\n",
      " 0.71172301 0.68560692 0.68133758 0.64172113 0.63710562 0.65745229\n",
      " 0.65933696 0.64341345 0.65383684 0.69326098 0.72526182 0.73018505\n",
      " 0.7578781  0.76814759 0.78449418 0.76868608 0.79303286 0.77960946\n",
      " 0.75760884 0.76110892 0.74322382 0.75410875 0.72880036 0.75999354\n",
      " 0.71354836 0.69759691 0.68037462 0.66530728 0.6522733  0.64079094]\n",
      "6 day output [[0.63039166]]\n",
      "7 day input [0.97669164 0.98169178 0.9879612  0.97384545 0.95272944 0.96784525\n",
      " 0.96530678 0.9761532  0.98484569 0.98738426 0.99007664 0.98603807\n",
      " 0.98865354 0.98134565 0.96346056 0.95534492 0.95265254 0.95572954\n",
      " 0.95549882 0.93138271 0.93907523 0.94880628 0.94126767 0.94145998\n",
      " 0.91569006 0.94415236 0.95557573 0.95184488 0.95369101 0.9522295\n",
      " 0.95246022 0.95892195 0.95307566 0.93611363 0.93442131 0.93142121\n",
      " 0.94215223 0.93438281 0.92888265 0.92145944 0.92065169 0.92080551\n",
      " 0.90403588 0.90553588 0.90722829 0.8818814  0.88380453 0.87115038\n",
      " 0.84991906 0.85491919 0.78376339 0.82107213 0.76699371 0.74822396\n",
      " 0.6726835  0.68703001 0.67726051 0.59164283 0.58868123 0.65718307\n",
      " 0.69129935 0.69387637 0.63787487 0.66114473 0.63633637 0.62418216\n",
      " 0.68745309 0.68191452 0.70972293 0.68687615 0.66222165 0.67487585\n",
      " 0.69837647 0.7249541  0.7071075  0.71245377 0.73272357 0.7197232\n",
      " 0.71329997 0.71460771 0.74976246 0.76876298 0.70814598 0.69926113\n",
      " 0.72614648 0.70968448 0.71279994 0.70260736 0.69164552 0.71172301\n",
      " 0.68560692 0.68133758 0.64172113 0.63710562 0.65745229 0.65933696\n",
      " 0.64341345 0.65383684 0.69326098 0.72526182 0.73018505 0.7578781\n",
      " 0.76814759 0.78449418 0.76868608 0.79303286 0.77960946 0.75760884\n",
      " 0.76110892 0.74322382 0.75410875 0.72880036 0.75999354 0.71354836\n",
      " 0.69759691 0.68037462 0.66530728 0.6522733  0.64079094 0.63039166]\n",
      "7 day output [[0.6207086]]\n",
      "8 day input [0.98169178 0.9879612  0.97384545 0.95272944 0.96784525 0.96530678\n",
      " 0.9761532  0.98484569 0.98738426 0.99007664 0.98603807 0.98865354\n",
      " 0.98134565 0.96346056 0.95534492 0.95265254 0.95572954 0.95549882\n",
      " 0.93138271 0.93907523 0.94880628 0.94126767 0.94145998 0.91569006\n",
      " 0.94415236 0.95557573 0.95184488 0.95369101 0.9522295  0.95246022\n",
      " 0.95892195 0.95307566 0.93611363 0.93442131 0.93142121 0.94215223\n",
      " 0.93438281 0.92888265 0.92145944 0.92065169 0.92080551 0.90403588\n",
      " 0.90553588 0.90722829 0.8818814  0.88380453 0.87115038 0.84991906\n",
      " 0.85491919 0.78376339 0.82107213 0.76699371 0.74822396 0.6726835\n",
      " 0.68703001 0.67726051 0.59164283 0.58868123 0.65718307 0.69129935\n",
      " 0.69387637 0.63787487 0.66114473 0.63633637 0.62418216 0.68745309\n",
      " 0.68191452 0.70972293 0.68687615 0.66222165 0.67487585 0.69837647\n",
      " 0.7249541  0.7071075  0.71245377 0.73272357 0.7197232  0.71329997\n",
      " 0.71460771 0.74976246 0.76876298 0.70814598 0.69926113 0.72614648\n",
      " 0.70968448 0.71279994 0.70260736 0.69164552 0.71172301 0.68560692\n",
      " 0.68133758 0.64172113 0.63710562 0.65745229 0.65933696 0.64341345\n",
      " 0.65383684 0.69326098 0.72526182 0.73018505 0.7578781  0.76814759\n",
      " 0.78449418 0.76868608 0.79303286 0.77960946 0.75760884 0.76110892\n",
      " 0.74322382 0.75410875 0.72880036 0.75999354 0.71354836 0.69759691\n",
      " 0.68037462 0.66530728 0.6522733  0.64079094 0.63039166 0.62070858]\n"
     ]
    },
    {
     "name": "stdout",
     "output_type": "stream",
     "text": [
      "8 day output [[0.61149895]]\n",
      "9 day input [0.9879612  0.97384545 0.95272944 0.96784525 0.96530678 0.9761532\n",
      " 0.98484569 0.98738426 0.99007664 0.98603807 0.98865354 0.98134565\n",
      " 0.96346056 0.95534492 0.95265254 0.95572954 0.95549882 0.93138271\n",
      " 0.93907523 0.94880628 0.94126767 0.94145998 0.91569006 0.94415236\n",
      " 0.95557573 0.95184488 0.95369101 0.9522295  0.95246022 0.95892195\n",
      " 0.95307566 0.93611363 0.93442131 0.93142121 0.94215223 0.93438281\n",
      " 0.92888265 0.92145944 0.92065169 0.92080551 0.90403588 0.90553588\n",
      " 0.90722829 0.8818814  0.88380453 0.87115038 0.84991906 0.85491919\n",
      " 0.78376339 0.82107213 0.76699371 0.74822396 0.6726835  0.68703001\n",
      " 0.67726051 0.59164283 0.58868123 0.65718307 0.69129935 0.69387637\n",
      " 0.63787487 0.66114473 0.63633637 0.62418216 0.68745309 0.68191452\n",
      " 0.70972293 0.68687615 0.66222165 0.67487585 0.69837647 0.7249541\n",
      " 0.7071075  0.71245377 0.73272357 0.7197232  0.71329997 0.71460771\n",
      " 0.74976246 0.76876298 0.70814598 0.69926113 0.72614648 0.70968448\n",
      " 0.71279994 0.70260736 0.69164552 0.71172301 0.68560692 0.68133758\n",
      " 0.64172113 0.63710562 0.65745229 0.65933696 0.64341345 0.65383684\n",
      " 0.69326098 0.72526182 0.73018505 0.7578781  0.76814759 0.78449418\n",
      " 0.76868608 0.79303286 0.77960946 0.75760884 0.76110892 0.74322382\n",
      " 0.75410875 0.72880036 0.75999354 0.71354836 0.69759691 0.68037462\n",
      " 0.66530728 0.6522733  0.64079094 0.63039166 0.62070858 0.61149895]\n",
      "9 day output [[0.60262996]]\n",
      "10 day input [0.97384545 0.95272944 0.96784525 0.96530678 0.9761532  0.98484569\n",
      " 0.98738426 0.99007664 0.98603807 0.98865354 0.98134565 0.96346056\n",
      " 0.95534492 0.95265254 0.95572954 0.95549882 0.93138271 0.93907523\n",
      " 0.94880628 0.94126767 0.94145998 0.91569006 0.94415236 0.95557573\n",
      " 0.95184488 0.95369101 0.9522295  0.95246022 0.95892195 0.95307566\n",
      " 0.93611363 0.93442131 0.93142121 0.94215223 0.93438281 0.92888265\n",
      " 0.92145944 0.92065169 0.92080551 0.90403588 0.90553588 0.90722829\n",
      " 0.8818814  0.88380453 0.87115038 0.84991906 0.85491919 0.78376339\n",
      " 0.82107213 0.76699371 0.74822396 0.6726835  0.68703001 0.67726051\n",
      " 0.59164283 0.58868123 0.65718307 0.69129935 0.69387637 0.63787487\n",
      " 0.66114473 0.63633637 0.62418216 0.68745309 0.68191452 0.70972293\n",
      " 0.68687615 0.66222165 0.67487585 0.69837647 0.7249541  0.7071075\n",
      " 0.71245377 0.73272357 0.7197232  0.71329997 0.71460771 0.74976246\n",
      " 0.76876298 0.70814598 0.69926113 0.72614648 0.70968448 0.71279994\n",
      " 0.70260736 0.69164552 0.71172301 0.68560692 0.68133758 0.64172113\n",
      " 0.63710562 0.65745229 0.65933696 0.64341345 0.65383684 0.69326098\n",
      " 0.72526182 0.73018505 0.7578781  0.76814759 0.78449418 0.76868608\n",
      " 0.79303286 0.77960946 0.75760884 0.76110892 0.74322382 0.75410875\n",
      " 0.72880036 0.75999354 0.71354836 0.69759691 0.68037462 0.66530728\n",
      " 0.6522733  0.64079094 0.63039166 0.62070858 0.61149895 0.60262996]\n",
      "10 day output [[0.5940488]]\n",
      "11 day input [0.95272944 0.96784525 0.96530678 0.9761532  0.98484569 0.98738426\n",
      " 0.99007664 0.98603807 0.98865354 0.98134565 0.96346056 0.95534492\n",
      " 0.95265254 0.95572954 0.95549882 0.93138271 0.93907523 0.94880628\n",
      " 0.94126767 0.94145998 0.91569006 0.94415236 0.95557573 0.95184488\n",
      " 0.95369101 0.9522295  0.95246022 0.95892195 0.95307566 0.93611363\n",
      " 0.93442131 0.93142121 0.94215223 0.93438281 0.92888265 0.92145944\n",
      " 0.92065169 0.92080551 0.90403588 0.90553588 0.90722829 0.8818814\n",
      " 0.88380453 0.87115038 0.84991906 0.85491919 0.78376339 0.82107213\n",
      " 0.76699371 0.74822396 0.6726835  0.68703001 0.67726051 0.59164283\n",
      " 0.58868123 0.65718307 0.69129935 0.69387637 0.63787487 0.66114473\n",
      " 0.63633637 0.62418216 0.68745309 0.68191452 0.70972293 0.68687615\n",
      " 0.66222165 0.67487585 0.69837647 0.7249541  0.7071075  0.71245377\n",
      " 0.73272357 0.7197232  0.71329997 0.71460771 0.74976246 0.76876298\n",
      " 0.70814598 0.69926113 0.72614648 0.70968448 0.71279994 0.70260736\n",
      " 0.69164552 0.71172301 0.68560692 0.68133758 0.64172113 0.63710562\n",
      " 0.65745229 0.65933696 0.64341345 0.65383684 0.69326098 0.72526182\n",
      " 0.73018505 0.7578781  0.76814759 0.78449418 0.76868608 0.79303286\n",
      " 0.77960946 0.75760884 0.76110892 0.74322382 0.75410875 0.72880036\n",
      " 0.75999354 0.71354836 0.69759691 0.68037462 0.66530728 0.6522733\n",
      " 0.64079094 0.63039166 0.62070858 0.61149895 0.60262996 0.5940488 ]\n",
      "11 day output [[0.585749]]\n",
      "12 day input [0.96784525 0.96530678 0.9761532  0.98484569 0.98738426 0.99007664\n",
      " 0.98603807 0.98865354 0.98134565 0.96346056 0.95534492 0.95265254\n",
      " 0.95572954 0.95549882 0.93138271 0.93907523 0.94880628 0.94126767\n",
      " 0.94145998 0.91569006 0.94415236 0.95557573 0.95184488 0.95369101\n",
      " 0.9522295  0.95246022 0.95892195 0.95307566 0.93611363 0.93442131\n",
      " 0.93142121 0.94215223 0.93438281 0.92888265 0.92145944 0.92065169\n",
      " 0.92080551 0.90403588 0.90553588 0.90722829 0.8818814  0.88380453\n",
      " 0.87115038 0.84991906 0.85491919 0.78376339 0.82107213 0.76699371\n",
      " 0.74822396 0.6726835  0.68703001 0.67726051 0.59164283 0.58868123\n",
      " 0.65718307 0.69129935 0.69387637 0.63787487 0.66114473 0.63633637\n",
      " 0.62418216 0.68745309 0.68191452 0.70972293 0.68687615 0.66222165\n",
      " 0.67487585 0.69837647 0.7249541  0.7071075  0.71245377 0.73272357\n",
      " 0.7197232  0.71329997 0.71460771 0.74976246 0.76876298 0.70814598\n",
      " 0.69926113 0.72614648 0.70968448 0.71279994 0.70260736 0.69164552\n",
      " 0.71172301 0.68560692 0.68133758 0.64172113 0.63710562 0.65745229\n",
      " 0.65933696 0.64341345 0.65383684 0.69326098 0.72526182 0.73018505\n",
      " 0.7578781  0.76814759 0.78449418 0.76868608 0.79303286 0.77960946\n",
      " 0.75760884 0.76110892 0.74322382 0.75410875 0.72880036 0.75999354\n",
      " 0.71354836 0.69759691 0.68037462 0.66530728 0.6522733  0.64079094\n",
      " 0.63039166 0.62070858 0.61149895 0.60262996 0.5940488  0.58574897]\n",
      "12 day output [[0.5777457]]\n",
      "13 day input [0.96530678 0.9761532  0.98484569 0.98738426 0.99007664 0.98603807\n",
      " 0.98865354 0.98134565 0.96346056 0.95534492 0.95265254 0.95572954\n",
      " 0.95549882 0.93138271 0.93907523 0.94880628 0.94126767 0.94145998\n",
      " 0.91569006 0.94415236 0.95557573 0.95184488 0.95369101 0.9522295\n",
      " 0.95246022 0.95892195 0.95307566 0.93611363 0.93442131 0.93142121\n",
      " 0.94215223 0.93438281 0.92888265 0.92145944 0.92065169 0.92080551\n",
      " 0.90403588 0.90553588 0.90722829 0.8818814  0.88380453 0.87115038\n",
      " 0.84991906 0.85491919 0.78376339 0.82107213 0.76699371 0.74822396\n",
      " 0.6726835  0.68703001 0.67726051 0.59164283 0.58868123 0.65718307\n",
      " 0.69129935 0.69387637 0.63787487 0.66114473 0.63633637 0.62418216\n",
      " 0.68745309 0.68191452 0.70972293 0.68687615 0.66222165 0.67487585\n",
      " 0.69837647 0.7249541  0.7071075  0.71245377 0.73272357 0.7197232\n",
      " 0.71329997 0.71460771 0.74976246 0.76876298 0.70814598 0.69926113\n",
      " 0.72614648 0.70968448 0.71279994 0.70260736 0.69164552 0.71172301\n",
      " 0.68560692 0.68133758 0.64172113 0.63710562 0.65745229 0.65933696\n",
      " 0.64341345 0.65383684 0.69326098 0.72526182 0.73018505 0.7578781\n",
      " 0.76814759 0.78449418 0.76868608 0.79303286 0.77960946 0.75760884\n",
      " 0.76110892 0.74322382 0.75410875 0.72880036 0.75999354 0.71354836\n",
      " 0.69759691 0.68037462 0.66530728 0.6522733  0.64079094 0.63039166\n",
      " 0.62070858 0.61149895 0.60262996 0.5940488  0.58574897 0.57774568]\n",
      "13 day output [[0.57005674]]\n",
      "14 day input [0.9761532  0.98484569 0.98738426 0.99007664 0.98603807 0.98865354\n",
      " 0.98134565 0.96346056 0.95534492 0.95265254 0.95572954 0.95549882\n",
      " 0.93138271 0.93907523 0.94880628 0.94126767 0.94145998 0.91569006\n",
      " 0.94415236 0.95557573 0.95184488 0.95369101 0.9522295  0.95246022\n",
      " 0.95892195 0.95307566 0.93611363 0.93442131 0.93142121 0.94215223\n",
      " 0.93438281 0.92888265 0.92145944 0.92065169 0.92080551 0.90403588\n",
      " 0.90553588 0.90722829 0.8818814  0.88380453 0.87115038 0.84991906\n",
      " 0.85491919 0.78376339 0.82107213 0.76699371 0.74822396 0.6726835\n",
      " 0.68703001 0.67726051 0.59164283 0.58868123 0.65718307 0.69129935\n",
      " 0.69387637 0.63787487 0.66114473 0.63633637 0.62418216 0.68745309\n",
      " 0.68191452 0.70972293 0.68687615 0.66222165 0.67487585 0.69837647\n",
      " 0.7249541  0.7071075  0.71245377 0.73272357 0.7197232  0.71329997\n",
      " 0.71460771 0.74976246 0.76876298 0.70814598 0.69926113 0.72614648\n",
      " 0.70968448 0.71279994 0.70260736 0.69164552 0.71172301 0.68560692\n",
      " 0.68133758 0.64172113 0.63710562 0.65745229 0.65933696 0.64341345\n",
      " 0.65383684 0.69326098 0.72526182 0.73018505 0.7578781  0.76814759\n",
      " 0.78449418 0.76868608 0.79303286 0.77960946 0.75760884 0.76110892\n",
      " 0.74322382 0.75410875 0.72880036 0.75999354 0.71354836 0.69759691\n",
      " 0.68037462 0.66530728 0.6522733  0.64079094 0.63039166 0.62070858\n",
      " 0.61149895 0.60262996 0.5940488  0.58574897 0.57774568 0.57005674]\n",
      "14 day output [[0.562695]]\n",
      "15 day input [0.98484569 0.98738426 0.99007664 0.98603807 0.98865354 0.98134565\n",
      " 0.96346056 0.95534492 0.95265254 0.95572954 0.95549882 0.93138271\n",
      " 0.93907523 0.94880628 0.94126767 0.94145998 0.91569006 0.94415236\n",
      " 0.95557573 0.95184488 0.95369101 0.9522295  0.95246022 0.95892195\n",
      " 0.95307566 0.93611363 0.93442131 0.93142121 0.94215223 0.93438281\n",
      " 0.92888265 0.92145944 0.92065169 0.92080551 0.90403588 0.90553588\n",
      " 0.90722829 0.8818814  0.88380453 0.87115038 0.84991906 0.85491919\n",
      " 0.78376339 0.82107213 0.76699371 0.74822396 0.6726835  0.68703001\n",
      " 0.67726051 0.59164283 0.58868123 0.65718307 0.69129935 0.69387637\n",
      " 0.63787487 0.66114473 0.63633637 0.62418216 0.68745309 0.68191452\n",
      " 0.70972293 0.68687615 0.66222165 0.67487585 0.69837647 0.7249541\n",
      " 0.7071075  0.71245377 0.73272357 0.7197232  0.71329997 0.71460771\n",
      " 0.74976246 0.76876298 0.70814598 0.69926113 0.72614648 0.70968448\n",
      " 0.71279994 0.70260736 0.69164552 0.71172301 0.68560692 0.68133758\n",
      " 0.64172113 0.63710562 0.65745229 0.65933696 0.64341345 0.65383684\n",
      " 0.69326098 0.72526182 0.73018505 0.7578781  0.76814759 0.78449418\n",
      " 0.76868608 0.79303286 0.77960946 0.75760884 0.76110892 0.74322382\n",
      " 0.75410875 0.72880036 0.75999354 0.71354836 0.69759691 0.68037462\n",
      " 0.66530728 0.6522733  0.64079094 0.63039166 0.62070858 0.61149895\n",
      " 0.60262996 0.5940488  0.58574897 0.57774568 0.57005674 0.56269503]\n",
      "15 day output [[0.5556638]]\n",
      "16 day input [0.98738426 0.99007664 0.98603807 0.98865354 0.98134565 0.96346056\n",
      " 0.95534492 0.95265254 0.95572954 0.95549882 0.93138271 0.93907523\n",
      " 0.94880628 0.94126767 0.94145998 0.91569006 0.94415236 0.95557573\n",
      " 0.95184488 0.95369101 0.9522295  0.95246022 0.95892195 0.95307566\n",
      " 0.93611363 0.93442131 0.93142121 0.94215223 0.93438281 0.92888265\n",
      " 0.92145944 0.92065169 0.92080551 0.90403588 0.90553588 0.90722829\n",
      " 0.8818814  0.88380453 0.87115038 0.84991906 0.85491919 0.78376339\n",
      " 0.82107213 0.76699371 0.74822396 0.6726835  0.68703001 0.67726051\n",
      " 0.59164283 0.58868123 0.65718307 0.69129935 0.69387637 0.63787487\n",
      " 0.66114473 0.63633637 0.62418216 0.68745309 0.68191452 0.70972293\n",
      " 0.68687615 0.66222165 0.67487585 0.69837647 0.7249541  0.7071075\n",
      " 0.71245377 0.73272357 0.7197232  0.71329997 0.71460771 0.74976246\n",
      " 0.76876298 0.70814598 0.69926113 0.72614648 0.70968448 0.71279994\n",
      " 0.70260736 0.69164552 0.71172301 0.68560692 0.68133758 0.64172113\n",
      " 0.63710562 0.65745229 0.65933696 0.64341345 0.65383684 0.69326098\n",
      " 0.72526182 0.73018505 0.7578781  0.76814759 0.78449418 0.76868608\n",
      " 0.79303286 0.77960946 0.75760884 0.76110892 0.74322382 0.75410875\n",
      " 0.72880036 0.75999354 0.71354836 0.69759691 0.68037462 0.66530728\n",
      " 0.6522733  0.64079094 0.63039166 0.62070858 0.61149895 0.60262996\n",
      " 0.5940488  0.58574897 0.57774568 0.57005674 0.56269503 0.55566382]\n"
     ]
    },
    {
     "name": "stdout",
     "output_type": "stream",
     "text": [
      "16 day output [[0.5489575]]\n",
      "17 day input [0.99007664 0.98603807 0.98865354 0.98134565 0.96346056 0.95534492\n",
      " 0.95265254 0.95572954 0.95549882 0.93138271 0.93907523 0.94880628\n",
      " 0.94126767 0.94145998 0.91569006 0.94415236 0.95557573 0.95184488\n",
      " 0.95369101 0.9522295  0.95246022 0.95892195 0.95307566 0.93611363\n",
      " 0.93442131 0.93142121 0.94215223 0.93438281 0.92888265 0.92145944\n",
      " 0.92065169 0.92080551 0.90403588 0.90553588 0.90722829 0.8818814\n",
      " 0.88380453 0.87115038 0.84991906 0.85491919 0.78376339 0.82107213\n",
      " 0.76699371 0.74822396 0.6726835  0.68703001 0.67726051 0.59164283\n",
      " 0.58868123 0.65718307 0.69129935 0.69387637 0.63787487 0.66114473\n",
      " 0.63633637 0.62418216 0.68745309 0.68191452 0.70972293 0.68687615\n",
      " 0.66222165 0.67487585 0.69837647 0.7249541  0.7071075  0.71245377\n",
      " 0.73272357 0.7197232  0.71329997 0.71460771 0.74976246 0.76876298\n",
      " 0.70814598 0.69926113 0.72614648 0.70968448 0.71279994 0.70260736\n",
      " 0.69164552 0.71172301 0.68560692 0.68133758 0.64172113 0.63710562\n",
      " 0.65745229 0.65933696 0.64341345 0.65383684 0.69326098 0.72526182\n",
      " 0.73018505 0.7578781  0.76814759 0.78449418 0.76868608 0.79303286\n",
      " 0.77960946 0.75760884 0.76110892 0.74322382 0.75410875 0.72880036\n",
      " 0.75999354 0.71354836 0.69759691 0.68037462 0.66530728 0.6522733\n",
      " 0.64079094 0.63039166 0.62070858 0.61149895 0.60262996 0.5940488\n",
      " 0.58574897 0.57774568 0.57005674 0.56269503 0.55566382 0.54895753]\n",
      "17 day output [[0.5425635]]\n",
      "18 day input [0.98603807 0.98865354 0.98134565 0.96346056 0.95534492 0.95265254\n",
      " 0.95572954 0.95549882 0.93138271 0.93907523 0.94880628 0.94126767\n",
      " 0.94145998 0.91569006 0.94415236 0.95557573 0.95184488 0.95369101\n",
      " 0.9522295  0.95246022 0.95892195 0.95307566 0.93611363 0.93442131\n",
      " 0.93142121 0.94215223 0.93438281 0.92888265 0.92145944 0.92065169\n",
      " 0.92080551 0.90403588 0.90553588 0.90722829 0.8818814  0.88380453\n",
      " 0.87115038 0.84991906 0.85491919 0.78376339 0.82107213 0.76699371\n",
      " 0.74822396 0.6726835  0.68703001 0.67726051 0.59164283 0.58868123\n",
      " 0.65718307 0.69129935 0.69387637 0.63787487 0.66114473 0.63633637\n",
      " 0.62418216 0.68745309 0.68191452 0.70972293 0.68687615 0.66222165\n",
      " 0.67487585 0.69837647 0.7249541  0.7071075  0.71245377 0.73272357\n",
      " 0.7197232  0.71329997 0.71460771 0.74976246 0.76876298 0.70814598\n",
      " 0.69926113 0.72614648 0.70968448 0.71279994 0.70260736 0.69164552\n",
      " 0.71172301 0.68560692 0.68133758 0.64172113 0.63710562 0.65745229\n",
      " 0.65933696 0.64341345 0.65383684 0.69326098 0.72526182 0.73018505\n",
      " 0.7578781  0.76814759 0.78449418 0.76868608 0.79303286 0.77960946\n",
      " 0.75760884 0.76110892 0.74322382 0.75410875 0.72880036 0.75999354\n",
      " 0.71354836 0.69759691 0.68037462 0.66530728 0.6522733  0.64079094\n",
      " 0.63039166 0.62070858 0.61149895 0.60262996 0.5940488  0.58574897\n",
      " 0.57774568 0.57005674 0.56269503 0.55566382 0.54895753 0.5425635 ]\n",
      "18 day output [[0.536465]]\n",
      "19 day input [0.98865354 0.98134565 0.96346056 0.95534492 0.95265254 0.95572954\n",
      " 0.95549882 0.93138271 0.93907523 0.94880628 0.94126767 0.94145998\n",
      " 0.91569006 0.94415236 0.95557573 0.95184488 0.95369101 0.9522295\n",
      " 0.95246022 0.95892195 0.95307566 0.93611363 0.93442131 0.93142121\n",
      " 0.94215223 0.93438281 0.92888265 0.92145944 0.92065169 0.92080551\n",
      " 0.90403588 0.90553588 0.90722829 0.8818814  0.88380453 0.87115038\n",
      " 0.84991906 0.85491919 0.78376339 0.82107213 0.76699371 0.74822396\n",
      " 0.6726835  0.68703001 0.67726051 0.59164283 0.58868123 0.65718307\n",
      " 0.69129935 0.69387637 0.63787487 0.66114473 0.63633637 0.62418216\n",
      " 0.68745309 0.68191452 0.70972293 0.68687615 0.66222165 0.67487585\n",
      " 0.69837647 0.7249541  0.7071075  0.71245377 0.73272357 0.7197232\n",
      " 0.71329997 0.71460771 0.74976246 0.76876298 0.70814598 0.69926113\n",
      " 0.72614648 0.70968448 0.71279994 0.70260736 0.69164552 0.71172301\n",
      " 0.68560692 0.68133758 0.64172113 0.63710562 0.65745229 0.65933696\n",
      " 0.64341345 0.65383684 0.69326098 0.72526182 0.73018505 0.7578781\n",
      " 0.76814759 0.78449418 0.76868608 0.79303286 0.77960946 0.75760884\n",
      " 0.76110892 0.74322382 0.75410875 0.72880036 0.75999354 0.71354836\n",
      " 0.69759691 0.68037462 0.66530728 0.6522733  0.64079094 0.63039166\n",
      " 0.62070858 0.61149895 0.60262996 0.5940488  0.58574897 0.57774568\n",
      " 0.57005674 0.56269503 0.55566382 0.54895753 0.5425635  0.53646499]\n",
      "19 day output [[0.53064376]]\n",
      "20 day input [0.98134565 0.96346056 0.95534492 0.95265254 0.95572954 0.95549882\n",
      " 0.93138271 0.93907523 0.94880628 0.94126767 0.94145998 0.91569006\n",
      " 0.94415236 0.95557573 0.95184488 0.95369101 0.9522295  0.95246022\n",
      " 0.95892195 0.95307566 0.93611363 0.93442131 0.93142121 0.94215223\n",
      " 0.93438281 0.92888265 0.92145944 0.92065169 0.92080551 0.90403588\n",
      " 0.90553588 0.90722829 0.8818814  0.88380453 0.87115038 0.84991906\n",
      " 0.85491919 0.78376339 0.82107213 0.76699371 0.74822396 0.6726835\n",
      " 0.68703001 0.67726051 0.59164283 0.58868123 0.65718307 0.69129935\n",
      " 0.69387637 0.63787487 0.66114473 0.63633637 0.62418216 0.68745309\n",
      " 0.68191452 0.70972293 0.68687615 0.66222165 0.67487585 0.69837647\n",
      " 0.7249541  0.7071075  0.71245377 0.73272357 0.7197232  0.71329997\n",
      " 0.71460771 0.74976246 0.76876298 0.70814598 0.69926113 0.72614648\n",
      " 0.70968448 0.71279994 0.70260736 0.69164552 0.71172301 0.68560692\n",
      " 0.68133758 0.64172113 0.63710562 0.65745229 0.65933696 0.64341345\n",
      " 0.65383684 0.69326098 0.72526182 0.73018505 0.7578781  0.76814759\n",
      " 0.78449418 0.76868608 0.79303286 0.77960946 0.75760884 0.76110892\n",
      " 0.74322382 0.75410875 0.72880036 0.75999354 0.71354836 0.69759691\n",
      " 0.68037462 0.66530728 0.6522733  0.64079094 0.63039166 0.62070858\n",
      " 0.61149895 0.60262996 0.5940488  0.58574897 0.57774568 0.57005674\n",
      " 0.56269503 0.55566382 0.54895753 0.5425635  0.53646499 0.53064376]\n",
      "20 day output [[0.5250807]]\n",
      "21 day input [0.96346056 0.95534492 0.95265254 0.95572954 0.95549882 0.93138271\n",
      " 0.93907523 0.94880628 0.94126767 0.94145998 0.91569006 0.94415236\n",
      " 0.95557573 0.95184488 0.95369101 0.9522295  0.95246022 0.95892195\n",
      " 0.95307566 0.93611363 0.93442131 0.93142121 0.94215223 0.93438281\n",
      " 0.92888265 0.92145944 0.92065169 0.92080551 0.90403588 0.90553588\n",
      " 0.90722829 0.8818814  0.88380453 0.87115038 0.84991906 0.85491919\n",
      " 0.78376339 0.82107213 0.76699371 0.74822396 0.6726835  0.68703001\n",
      " 0.67726051 0.59164283 0.58868123 0.65718307 0.69129935 0.69387637\n",
      " 0.63787487 0.66114473 0.63633637 0.62418216 0.68745309 0.68191452\n",
      " 0.70972293 0.68687615 0.66222165 0.67487585 0.69837647 0.7249541\n",
      " 0.7071075  0.71245377 0.73272357 0.7197232  0.71329997 0.71460771\n",
      " 0.74976246 0.76876298 0.70814598 0.69926113 0.72614648 0.70968448\n",
      " 0.71279994 0.70260736 0.69164552 0.71172301 0.68560692 0.68133758\n",
      " 0.64172113 0.63710562 0.65745229 0.65933696 0.64341345 0.65383684\n",
      " 0.69326098 0.72526182 0.73018505 0.7578781  0.76814759 0.78449418\n",
      " 0.76868608 0.79303286 0.77960946 0.75760884 0.76110892 0.74322382\n",
      " 0.75410875 0.72880036 0.75999354 0.71354836 0.69759691 0.68037462\n",
      " 0.66530728 0.6522733  0.64079094 0.63039166 0.62070858 0.61149895\n",
      " 0.60262996 0.5940488  0.58574897 0.57774568 0.57005674 0.56269503\n",
      " 0.55566382 0.54895753 0.5425635  0.53646499 0.53064376 0.52508068]\n",
      "21 day output [[0.5197581]]\n",
      "22 day input [0.95534492 0.95265254 0.95572954 0.95549882 0.93138271 0.93907523\n",
      " 0.94880628 0.94126767 0.94145998 0.91569006 0.94415236 0.95557573\n",
      " 0.95184488 0.95369101 0.9522295  0.95246022 0.95892195 0.95307566\n",
      " 0.93611363 0.93442131 0.93142121 0.94215223 0.93438281 0.92888265\n",
      " 0.92145944 0.92065169 0.92080551 0.90403588 0.90553588 0.90722829\n",
      " 0.8818814  0.88380453 0.87115038 0.84991906 0.85491919 0.78376339\n",
      " 0.82107213 0.76699371 0.74822396 0.6726835  0.68703001 0.67726051\n",
      " 0.59164283 0.58868123 0.65718307 0.69129935 0.69387637 0.63787487\n",
      " 0.66114473 0.63633637 0.62418216 0.68745309 0.68191452 0.70972293\n",
      " 0.68687615 0.66222165 0.67487585 0.69837647 0.7249541  0.7071075\n",
      " 0.71245377 0.73272357 0.7197232  0.71329997 0.71460771 0.74976246\n",
      " 0.76876298 0.70814598 0.69926113 0.72614648 0.70968448 0.71279994\n",
      " 0.70260736 0.69164552 0.71172301 0.68560692 0.68133758 0.64172113\n",
      " 0.63710562 0.65745229 0.65933696 0.64341345 0.65383684 0.69326098\n",
      " 0.72526182 0.73018505 0.7578781  0.76814759 0.78449418 0.76868608\n",
      " 0.79303286 0.77960946 0.75760884 0.76110892 0.74322382 0.75410875\n",
      " 0.72880036 0.75999354 0.71354836 0.69759691 0.68037462 0.66530728\n",
      " 0.6522733  0.64079094 0.63039166 0.62070858 0.61149895 0.60262996\n",
      " 0.5940488  0.58574897 0.57774568 0.57005674 0.56269503 0.55566382\n",
      " 0.54895753 0.5425635  0.53646499 0.53064376 0.52508068 0.51975811]\n",
      "22 day output [[0.5146597]]\n",
      "23 day input [0.95265254 0.95572954 0.95549882 0.93138271 0.93907523 0.94880628\n",
      " 0.94126767 0.94145998 0.91569006 0.94415236 0.95557573 0.95184488\n",
      " 0.95369101 0.9522295  0.95246022 0.95892195 0.95307566 0.93611363\n",
      " 0.93442131 0.93142121 0.94215223 0.93438281 0.92888265 0.92145944\n",
      " 0.92065169 0.92080551 0.90403588 0.90553588 0.90722829 0.8818814\n",
      " 0.88380453 0.87115038 0.84991906 0.85491919 0.78376339 0.82107213\n",
      " 0.76699371 0.74822396 0.6726835  0.68703001 0.67726051 0.59164283\n",
      " 0.58868123 0.65718307 0.69129935 0.69387637 0.63787487 0.66114473\n",
      " 0.63633637 0.62418216 0.68745309 0.68191452 0.70972293 0.68687615\n",
      " 0.66222165 0.67487585 0.69837647 0.7249541  0.7071075  0.71245377\n",
      " 0.73272357 0.7197232  0.71329997 0.71460771 0.74976246 0.76876298\n",
      " 0.70814598 0.69926113 0.72614648 0.70968448 0.71279994 0.70260736\n",
      " 0.69164552 0.71172301 0.68560692 0.68133758 0.64172113 0.63710562\n",
      " 0.65745229 0.65933696 0.64341345 0.65383684 0.69326098 0.72526182\n",
      " 0.73018505 0.7578781  0.76814759 0.78449418 0.76868608 0.79303286\n",
      " 0.77960946 0.75760884 0.76110892 0.74322382 0.75410875 0.72880036\n",
      " 0.75999354 0.71354836 0.69759691 0.68037462 0.66530728 0.6522733\n",
      " 0.64079094 0.63039166 0.62070858 0.61149895 0.60262996 0.5940488\n",
      " 0.58574897 0.57774568 0.57005674 0.56269503 0.55566382 0.54895753\n",
      " 0.5425635  0.53646499 0.53064376 0.52508068 0.51975811 0.5146597 ]\n",
      "23 day output [[0.5097708]]\n",
      "24 day input [0.95572954 0.95549882 0.93138271 0.93907523 0.94880628 0.94126767\n",
      " 0.94145998 0.91569006 0.94415236 0.95557573 0.95184488 0.95369101\n",
      " 0.9522295  0.95246022 0.95892195 0.95307566 0.93611363 0.93442131\n",
      " 0.93142121 0.94215223 0.93438281 0.92888265 0.92145944 0.92065169\n",
      " 0.92080551 0.90403588 0.90553588 0.90722829 0.8818814  0.88380453\n",
      " 0.87115038 0.84991906 0.85491919 0.78376339 0.82107213 0.76699371\n",
      " 0.74822396 0.6726835  0.68703001 0.67726051 0.59164283 0.58868123\n",
      " 0.65718307 0.69129935 0.69387637 0.63787487 0.66114473 0.63633637\n",
      " 0.62418216 0.68745309 0.68191452 0.70972293 0.68687615 0.66222165\n",
      " 0.67487585 0.69837647 0.7249541  0.7071075  0.71245377 0.73272357\n",
      " 0.7197232  0.71329997 0.71460771 0.74976246 0.76876298 0.70814598\n",
      " 0.69926113 0.72614648 0.70968448 0.71279994 0.70260736 0.69164552\n",
      " 0.71172301 0.68560692 0.68133758 0.64172113 0.63710562 0.65745229\n",
      " 0.65933696 0.64341345 0.65383684 0.69326098 0.72526182 0.73018505\n",
      " 0.7578781  0.76814759 0.78449418 0.76868608 0.79303286 0.77960946\n",
      " 0.75760884 0.76110892 0.74322382 0.75410875 0.72880036 0.75999354\n",
      " 0.71354836 0.69759691 0.68037462 0.66530728 0.6522733  0.64079094\n",
      " 0.63039166 0.62070858 0.61149895 0.60262996 0.5940488  0.58574897\n",
      " 0.57774568 0.57005674 0.56269503 0.55566382 0.54895753 0.5425635\n",
      " 0.53646499 0.53064376 0.52508068 0.51975811 0.5146597  0.50977081]\n"
     ]
    },
    {
     "name": "stdout",
     "output_type": "stream",
     "text": [
      "24 day output [[0.50507796]]\n",
      "25 day input [0.95549882 0.93138271 0.93907523 0.94880628 0.94126767 0.94145998\n",
      " 0.91569006 0.94415236 0.95557573 0.95184488 0.95369101 0.9522295\n",
      " 0.95246022 0.95892195 0.95307566 0.93611363 0.93442131 0.93142121\n",
      " 0.94215223 0.93438281 0.92888265 0.92145944 0.92065169 0.92080551\n",
      " 0.90403588 0.90553588 0.90722829 0.8818814  0.88380453 0.87115038\n",
      " 0.84991906 0.85491919 0.78376339 0.82107213 0.76699371 0.74822396\n",
      " 0.6726835  0.68703001 0.67726051 0.59164283 0.58868123 0.65718307\n",
      " 0.69129935 0.69387637 0.63787487 0.66114473 0.63633637 0.62418216\n",
      " 0.68745309 0.68191452 0.70972293 0.68687615 0.66222165 0.67487585\n",
      " 0.69837647 0.7249541  0.7071075  0.71245377 0.73272357 0.7197232\n",
      " 0.71329997 0.71460771 0.74976246 0.76876298 0.70814598 0.69926113\n",
      " 0.72614648 0.70968448 0.71279994 0.70260736 0.69164552 0.71172301\n",
      " 0.68560692 0.68133758 0.64172113 0.63710562 0.65745229 0.65933696\n",
      " 0.64341345 0.65383684 0.69326098 0.72526182 0.73018505 0.7578781\n",
      " 0.76814759 0.78449418 0.76868608 0.79303286 0.77960946 0.75760884\n",
      " 0.76110892 0.74322382 0.75410875 0.72880036 0.75999354 0.71354836\n",
      " 0.69759691 0.68037462 0.66530728 0.6522733  0.64079094 0.63039166\n",
      " 0.62070858 0.61149895 0.60262996 0.5940488  0.58574897 0.57774568\n",
      " 0.57005674 0.56269503 0.55566382 0.54895753 0.5425635  0.53646499\n",
      " 0.53064376 0.52508068 0.51975811 0.5146597  0.50977081 0.50507796]\n",
      "25 day output [[0.50056934]]\n",
      "26 day input [0.93138271 0.93907523 0.94880628 0.94126767 0.94145998 0.91569006\n",
      " 0.94415236 0.95557573 0.95184488 0.95369101 0.9522295  0.95246022\n",
      " 0.95892195 0.95307566 0.93611363 0.93442131 0.93142121 0.94215223\n",
      " 0.93438281 0.92888265 0.92145944 0.92065169 0.92080551 0.90403588\n",
      " 0.90553588 0.90722829 0.8818814  0.88380453 0.87115038 0.84991906\n",
      " 0.85491919 0.78376339 0.82107213 0.76699371 0.74822396 0.6726835\n",
      " 0.68703001 0.67726051 0.59164283 0.58868123 0.65718307 0.69129935\n",
      " 0.69387637 0.63787487 0.66114473 0.63633637 0.62418216 0.68745309\n",
      " 0.68191452 0.70972293 0.68687615 0.66222165 0.67487585 0.69837647\n",
      " 0.7249541  0.7071075  0.71245377 0.73272357 0.7197232  0.71329997\n",
      " 0.71460771 0.74976246 0.76876298 0.70814598 0.69926113 0.72614648\n",
      " 0.70968448 0.71279994 0.70260736 0.69164552 0.71172301 0.68560692\n",
      " 0.68133758 0.64172113 0.63710562 0.65745229 0.65933696 0.64341345\n",
      " 0.65383684 0.69326098 0.72526182 0.73018505 0.7578781  0.76814759\n",
      " 0.78449418 0.76868608 0.79303286 0.77960946 0.75760884 0.76110892\n",
      " 0.74322382 0.75410875 0.72880036 0.75999354 0.71354836 0.69759691\n",
      " 0.68037462 0.66530728 0.6522733  0.64079094 0.63039166 0.62070858\n",
      " 0.61149895 0.60262996 0.5940488  0.58574897 0.57774568 0.57005674\n",
      " 0.56269503 0.55566382 0.54895753 0.5425635  0.53646499 0.53064376\n",
      " 0.52508068 0.51975811 0.5146597  0.50977081 0.50507796 0.50056934]\n",
      "26 day output [[0.49623403]]\n",
      "27 day input [0.93907523 0.94880628 0.94126767 0.94145998 0.91569006 0.94415236\n",
      " 0.95557573 0.95184488 0.95369101 0.9522295  0.95246022 0.95892195\n",
      " 0.95307566 0.93611363 0.93442131 0.93142121 0.94215223 0.93438281\n",
      " 0.92888265 0.92145944 0.92065169 0.92080551 0.90403588 0.90553588\n",
      " 0.90722829 0.8818814  0.88380453 0.87115038 0.84991906 0.85491919\n",
      " 0.78376339 0.82107213 0.76699371 0.74822396 0.6726835  0.68703001\n",
      " 0.67726051 0.59164283 0.58868123 0.65718307 0.69129935 0.69387637\n",
      " 0.63787487 0.66114473 0.63633637 0.62418216 0.68745309 0.68191452\n",
      " 0.70972293 0.68687615 0.66222165 0.67487585 0.69837647 0.7249541\n",
      " 0.7071075  0.71245377 0.73272357 0.7197232  0.71329997 0.71460771\n",
      " 0.74976246 0.76876298 0.70814598 0.69926113 0.72614648 0.70968448\n",
      " 0.71279994 0.70260736 0.69164552 0.71172301 0.68560692 0.68133758\n",
      " 0.64172113 0.63710562 0.65745229 0.65933696 0.64341345 0.65383684\n",
      " 0.69326098 0.72526182 0.73018505 0.7578781  0.76814759 0.78449418\n",
      " 0.76868608 0.79303286 0.77960946 0.75760884 0.76110892 0.74322382\n",
      " 0.75410875 0.72880036 0.75999354 0.71354836 0.69759691 0.68037462\n",
      " 0.66530728 0.6522733  0.64079094 0.63039166 0.62070858 0.61149895\n",
      " 0.60262996 0.5940488  0.58574897 0.57774568 0.57005674 0.56269503\n",
      " 0.55566382 0.54895753 0.5425635  0.53646499 0.53064376 0.52508068\n",
      " 0.51975811 0.5146597  0.50977081 0.50507796 0.50056934 0.49623403]\n",
      "27 day output [[0.49206212]]\n",
      "28 day input [0.94880628 0.94126767 0.94145998 0.91569006 0.94415236 0.95557573\n",
      " 0.95184488 0.95369101 0.9522295  0.95246022 0.95892195 0.95307566\n",
      " 0.93611363 0.93442131 0.93142121 0.94215223 0.93438281 0.92888265\n",
      " 0.92145944 0.92065169 0.92080551 0.90403588 0.90553588 0.90722829\n",
      " 0.8818814  0.88380453 0.87115038 0.84991906 0.85491919 0.78376339\n",
      " 0.82107213 0.76699371 0.74822396 0.6726835  0.68703001 0.67726051\n",
      " 0.59164283 0.58868123 0.65718307 0.69129935 0.69387637 0.63787487\n",
      " 0.66114473 0.63633637 0.62418216 0.68745309 0.68191452 0.70972293\n",
      " 0.68687615 0.66222165 0.67487585 0.69837647 0.7249541  0.7071075\n",
      " 0.71245377 0.73272357 0.7197232  0.71329997 0.71460771 0.74976246\n",
      " 0.76876298 0.70814598 0.69926113 0.72614648 0.70968448 0.71279994\n",
      " 0.70260736 0.69164552 0.71172301 0.68560692 0.68133758 0.64172113\n",
      " 0.63710562 0.65745229 0.65933696 0.64341345 0.65383684 0.69326098\n",
      " 0.72526182 0.73018505 0.7578781  0.76814759 0.78449418 0.76868608\n",
      " 0.79303286 0.77960946 0.75760884 0.76110892 0.74322382 0.75410875\n",
      " 0.72880036 0.75999354 0.71354836 0.69759691 0.68037462 0.66530728\n",
      " 0.6522733  0.64079094 0.63039166 0.62070858 0.61149895 0.60262996\n",
      " 0.5940488  0.58574897 0.57774568 0.57005674 0.56269503 0.55566382\n",
      " 0.54895753 0.5425635  0.53646499 0.53064376 0.52508068 0.51975811\n",
      " 0.5146597  0.50977081 0.50507796 0.50056934 0.49623403 0.49206212]\n",
      "28 day output [[0.48804456]]\n",
      "29 day input [0.94126767 0.94145998 0.91569006 0.94415236 0.95557573 0.95184488\n",
      " 0.95369101 0.9522295  0.95246022 0.95892195 0.95307566 0.93611363\n",
      " 0.93442131 0.93142121 0.94215223 0.93438281 0.92888265 0.92145944\n",
      " 0.92065169 0.92080551 0.90403588 0.90553588 0.90722829 0.8818814\n",
      " 0.88380453 0.87115038 0.84991906 0.85491919 0.78376339 0.82107213\n",
      " 0.76699371 0.74822396 0.6726835  0.68703001 0.67726051 0.59164283\n",
      " 0.58868123 0.65718307 0.69129935 0.69387637 0.63787487 0.66114473\n",
      " 0.63633637 0.62418216 0.68745309 0.68191452 0.70972293 0.68687615\n",
      " 0.66222165 0.67487585 0.69837647 0.7249541  0.7071075  0.71245377\n",
      " 0.73272357 0.7197232  0.71329997 0.71460771 0.74976246 0.76876298\n",
      " 0.70814598 0.69926113 0.72614648 0.70968448 0.71279994 0.70260736\n",
      " 0.69164552 0.71172301 0.68560692 0.68133758 0.64172113 0.63710562\n",
      " 0.65745229 0.65933696 0.64341345 0.65383684 0.69326098 0.72526182\n",
      " 0.73018505 0.7578781  0.76814759 0.78449418 0.76868608 0.79303286\n",
      " 0.77960946 0.75760884 0.76110892 0.74322382 0.75410875 0.72880036\n",
      " 0.75999354 0.71354836 0.69759691 0.68037462 0.66530728 0.6522733\n",
      " 0.64079094 0.63039166 0.62070858 0.61149895 0.60262996 0.5940488\n",
      " 0.58574897 0.57774568 0.57005674 0.56269503 0.55566382 0.54895753\n",
      " 0.5425635  0.53646499 0.53064376 0.52508068 0.51975811 0.5146597\n",
      " 0.50977081 0.50507796 0.50056934 0.49623403 0.49206212 0.48804456]\n",
      "29 day output [[0.48417276]]\n",
      "[[0.7135483622550964], [0.6975969076156616], [0.6803746223449707], [0.6653072834014893], [0.6522732973098755], [0.6407909393310547], [0.6303916573524475], [0.6207085847854614], [0.6114989519119263], [0.6026299595832825], [0.594048798084259], [0.5857489705085754], [0.5777456760406494], [0.5700567364692688], [0.5626950263977051], [0.5556638240814209], [0.5489575266838074], [0.5425634980201721], [0.5364649891853333], [0.5306437611579895], [0.525080680847168], [0.5197581052780151], [0.5146597027778625], [0.5097708106040955], [0.5050779581069946], [0.5005693435668945], [0.4962340295314789], [0.49206212162971497], [0.4880445599555969], [0.4841727614402771]]\n"
     ]
    }
   ],
   "source": [
    "\n",
    "from numpy import array\n",
    "\n",
    "lst_output=[]\n",
    "n_steps=120\n",
    "i=0\n",
    "while(i<30):\n",
    "    \n",
    "    if(len(temp_input)>100):\n",
    "        #print(temp_input)\n",
    "        x_input=np.array(temp_input[1:])\n",
    "        print(\"{} day input {}\".format(i,x_input))\n",
    "        x_input=x_input.reshape(1,-1)\n",
    "        x_input = x_input.reshape((1, n_steps, 1))\n",
    "        #print(x_input)\n",
    "        yhat = model.predict(x_input, verbose=0)\n",
    "        print(\"{} day output {}\".format(i,yhat))\n",
    "        temp_input.extend(yhat[0].tolist())\n",
    "        temp_input=temp_input[1:]\n",
    "        #print(temp_input)\n",
    "        lst_output.extend(yhat.tolist())\n",
    "        i=i+1\n",
    "    else:\n",
    "        x_input = x_input.reshape((1, n_steps,1))\n",
    "        yhat = model.predict(x_input, verbose=0)\n",
    "        print(yhat[0])\n",
    "        temp_input.extend(yhat[0].tolist())\n",
    "        print(len(temp_input))\n",
    "        lst_output.extend(yhat.tolist())\n",
    "        i=i+1\n",
    "    \n",
    "\n",
    "print(lst_output)"
   ]
  },
  {
   "cell_type": "code",
   "execution_count": 40,
   "metadata": {
    "colab": {},
    "colab_type": "code",
    "id": "wAvh72I3rRv0"
   },
   "outputs": [],
   "source": [
    "day_new=np.arange(1,121)\n",
    "day_pred=np.arange(121,151)"
   ]
  },
  {
   "cell_type": "code",
   "execution_count": 41,
   "metadata": {
    "colab": {},
    "colab_type": "code",
    "id": "q7ts0agBrRv3"
   },
   "outputs": [],
   "source": [
    "import matplotlib.pyplot as plt"
   ]
  },
  {
   "cell_type": "code",
   "execution_count": 42,
   "metadata": {
    "colab": {
     "base_uri": "https://localhost:8080/",
     "height": 35
    },
    "colab_type": "code",
    "id": "qbJkvlVZrRv5",
    "outputId": "02041af5-3ed1-460f-fa11-86693de4b3e2"
   },
   "outputs": [
    {
     "data": {
      "text/plain": [
       "6038"
      ]
     },
     "execution_count": 42,
     "metadata": {},
     "output_type": "execute_result"
    }
   ],
   "source": [
    "len(df1)"
   ]
  },
  {
   "cell_type": "code",
   "execution_count": null,
   "metadata": {
    "colab": {},
    "colab_type": "code",
    "id": "snk_QAGxrRv7"
   },
   "outputs": [],
   "source": []
  },
  {
   "cell_type": "code",
   "execution_count": 43,
   "metadata": {
    "colab": {
     "base_uri": "https://localhost:8080/",
     "height": 283
    },
    "colab_type": "code",
    "id": "BF9uLgklrRv9",
    "outputId": "092052ae-1370-4277-b16e-fa69bb83e704"
   },
   "outputs": [
    {
     "data": {
      "text/plain": [
       "[<matplotlib.lines.Line2D at 0x25a99d8dc40>]"
      ]
     },
     "execution_count": 43,
     "metadata": {},
     "output_type": "execute_result"
    },
    {
     "data": {
      "image/png": "[encoded data removed]",
      "text/plain": [
       "<Figure size 640x480 with 1 Axes>"
      ]
     },
     "metadata": {},
     "output_type": "display_data"
    }
   ],
   "source": [
    "plt.plot(day_new,scaler.inverse_transform(df1[5918:]))\n",
    "plt.plot(day_pred,scaler.inverse_transform(lst_output))"
   ]
  },
  {
   "cell_type": "code",
   "execution_count": 44,
   "metadata": {
    "colab": {},
    "colab_type": "code",
    "id": "xM7PFZvgrRv-"
   },
   "outputs": [
    {
     "data": {
      "text/plain": [
       "[<matplotlib.lines.Line2D at 0x25a9ad9e970>]"
      ]
     },
     "execution_count": 44,
     "metadata": {},
     "output_type": "execute_result"
    },
    {
     "data": {
      "image/png": "[encoded data removed]",
      "text/plain": [
       "<Figure size 640x480 with 1 Axes>"
      ]
     },
     "metadata": {},
     "output_type": "display_data"
    }
   ],
   "source": [
    "df3=df1.tolist()\n",
    "df3.extend(lst_output)\n",
    "plt.plot(df3[3700:])\n"
   ]
  },
  {
   "cell_type": "code",
   "execution_count": 45,
   "metadata": {
    "colab": {},
    "colab_type": "code",
    "id": "1y-uTYkXrRwA"
   },
   "outputs": [],
   "source": [
    "df3=scaler.inverse_transform(df3).tolist()"
   ]
  },
  {
   "cell_type": "code",
   "execution_count": 46,
   "metadata": {
    "colab": {},
    "colab_type": "code",
    "id": "gWmtvUEyrRwB"
   },
   "outputs": [
    {
     "data": {
      "text/plain": [
       "[<matplotlib.lines.Line2D at 0x25a9ad7f550>]"
      ]
     },
     "execution_count": 46,
     "metadata": {},
     "output_type": "execute_result"
    },
    {
     "data": {
      "image/png": "[encoded data removed]",
      "text/plain": [
       "<Figure size 640x480 with 1 Axes>"
      ]
     },
     "metadata": {},
     "output_type": "display_data"
    }
   ],
   "source": [
    "plt.plot(df3)"
   ]
  },
  {
   "cell_type": "code",
   "execution_count": null,
   "metadata": {
    "colab": {},
    "colab_type": "code",
    "id": "uBNGVLzsrRwE"
   },
   "outputs": [],
   "source": []
  },
  {
   "cell_type": "code",
   "execution_count": null,
   "metadata": {},
   "outputs": [],
   "source": []
  },
  {
   "cell_type": "code",
   "execution_count": null,
   "metadata": {},
   "outputs": [],
   "source": []
  }
 ],
 "metadata": {
  "colab": {
   "name": "HDFC2.ipynb",
   "provenance": [],
   "toc_visible": true
  },
  "kernelspec": {
   "display_name": "Python 3 (ipykernel)",
   "language": "python",
   "name": "python3"
  },
  "language_info": {
   "codemirror_mode": {
    "name": "ipython",
    "version": 3
   },
   "file_extension": ".py",
   "mimetype": "text/x-python",
   "name": "python",
   "nbconvert_exporter": "python",
   "pygments_lexer": "ipython3",
   "version": "3.9.13"
  }
 },
 "nbformat": 4,
 "nbformat_minor": 1
}
